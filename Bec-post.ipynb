{
 "cells": [
  {
   "cell_type": "code",
   "execution_count": 1,
   "id": "aeb16204-85c5-4e63-a9e0-38fe80db7b81",
   "metadata": {},
   "outputs": [],
   "source": [
    "import numpy as np\n",
    "import pandas as pd\n",
    "from sklearn.decomposition import NMF\n",
    "\n",
    "col_post=pd.DataFrame(pd.read_csv('Becuti post.csv'))"
   ]
  },
  {
   "cell_type": "code",
   "execution_count": 2,
   "id": "c0078caf-8550-406b-9f3c-efc536a3add4",
   "metadata": {},
   "outputs": [
    {
     "data": {
      "text/html": [
       "<div>\n",
       "<style scoped>\n",
       "    .dataframe tbody tr th:only-of-type {\n",
       "        vertical-align: middle;\n",
       "    }\n",
       "\n",
       "    .dataframe tbody tr th {\n",
       "        vertical-align: top;\n",
       "    }\n",
       "\n",
       "    .dataframe thead th {\n",
       "        text-align: right;\n",
       "    }\n",
       "</style>\n",
       "<table border=\"1\" class=\"dataframe\">\n",
       "  <thead>\n",
       "    <tr style=\"text-align: right;\">\n",
       "      <th></th>\n",
       "      <th>Right Vastus lateralis~5</th>\n",
       "      <th>Right Biceps femoris caput longus~5</th>\n",
       "      <th>Right Gastrocnemius lateralis~5</th>\n",
       "      <th>Right Gluteus maximus~5</th>\n",
       "      <th>Right Rectus femoris~5</th>\n",
       "    </tr>\n",
       "  </thead>\n",
       "  <tbody>\n",
       "    <tr>\n",
       "      <th>0</th>\n",
       "      <td>0.059603</td>\n",
       "      <td>0.103761</td>\n",
       "      <td>0.109467</td>\n",
       "      <td>0.369863</td>\n",
       "      <td>0.151724</td>\n",
       "    </tr>\n",
       "    <tr>\n",
       "      <th>1</th>\n",
       "      <td>0.058499</td>\n",
       "      <td>0.102464</td>\n",
       "      <td>0.118343</td>\n",
       "      <td>0.360731</td>\n",
       "      <td>0.147126</td>\n",
       "    </tr>\n",
       "    <tr>\n",
       "      <th>2</th>\n",
       "      <td>0.058499</td>\n",
       "      <td>0.101167</td>\n",
       "      <td>0.130178</td>\n",
       "      <td>0.347032</td>\n",
       "      <td>0.140230</td>\n",
       "    </tr>\n",
       "    <tr>\n",
       "      <th>3</th>\n",
       "      <td>0.057395</td>\n",
       "      <td>0.099870</td>\n",
       "      <td>0.144970</td>\n",
       "      <td>0.333333</td>\n",
       "      <td>0.135632</td>\n",
       "    </tr>\n",
       "    <tr>\n",
       "      <th>4</th>\n",
       "      <td>0.056291</td>\n",
       "      <td>0.098573</td>\n",
       "      <td>0.159763</td>\n",
       "      <td>0.324201</td>\n",
       "      <td>0.128736</td>\n",
       "    </tr>\n",
       "  </tbody>\n",
       "</table>\n",
       "</div>"
      ],
      "text/plain": [
       "   Right Vastus lateralis~5  Right Biceps femoris caput longus~5  \\\n",
       "0                  0.059603                             0.103761   \n",
       "1                  0.058499                             0.102464   \n",
       "2                  0.058499                             0.101167   \n",
       "3                  0.057395                             0.099870   \n",
       "4                  0.056291                             0.098573   \n",
       "\n",
       "   Right Gastrocnemius lateralis~5  Right Gluteus maximus~5  \\\n",
       "0                         0.109467                 0.369863   \n",
       "1                         0.118343                 0.360731   \n",
       "2                         0.130178                 0.347032   \n",
       "3                         0.144970                 0.333333   \n",
       "4                         0.159763                 0.324201   \n",
       "\n",
       "   Right Rectus femoris~5  \n",
       "0                0.151724  \n",
       "1                0.147126  \n",
       "2                0.140230  \n",
       "3                0.135632  \n",
       "4                0.128736  "
      ]
     },
     "execution_count": 2,
     "metadata": {},
     "output_type": "execute_result"
    }
   ],
   "source": [
    "col_post.head()"
   ]
  },
  {
   "cell_type": "code",
   "execution_count": 3,
   "id": "b6d63393-a70b-4bbf-a6a5-53c1af488bba",
   "metadata": {},
   "outputs": [],
   "source": [
    "vasto=col_post.iloc[:,0].to_numpy()\n",
    "femor=col_post.iloc[:,1].to_numpy()\n",
    "polp=col_post.iloc[:,2].to_numpy()\n",
    "glute=col_post.iloc[:,3].to_numpy()\n",
    "quad=col_post.iloc[:,4].to_numpy()"
   ]
  },
  {
   "cell_type": "code",
   "execution_count": 4,
   "id": "bb3b800f-09fd-494d-9376-66126301cd59",
   "metadata": {},
   "outputs": [],
   "source": [
    "X=[vasto,femor,polp,glute,quad]"
   ]
  },
  {
   "cell_type": "code",
   "execution_count": 5,
   "id": "f179d987-7ca0-47a2-9a8d-7d2f685150e9",
   "metadata": {
    "tags": []
   },
   "outputs": [
    {
     "name": "stderr",
     "output_type": "stream",
     "text": [
      "/Users/alessandro/opt/anaconda3/lib/python3.9/site-packages/sklearn/decomposition/_nmf.py:1637: ConvergenceWarning: Maximum number of iterations 200 reached. Increase it to improve convergence.\n",
      "  warnings.warn(\n"
     ]
    }
   ],
   "source": [
    "model = NMF(n_components=5, init='random', random_state=0)\n",
    "W = model.fit_transform(X)\n",
    "H = model.components_"
   ]
  },
  {
   "cell_type": "code",
   "execution_count": 6,
   "id": "cddf8196-8188-45dd-9b36-96b0596a0f42",
   "metadata": {
    "tags": []
   },
   "outputs": [
    {
     "data": {
      "text/plain": [
       "array([[5.71203504e-07, 3.42917793e-02, 2.43808339e-01, 8.35286832e-01,\n",
       "        4.33381740e-03],\n",
       "       [0.00000000e+00, 3.94944668e-02, 5.67638089e-01, 8.01158669e-02,\n",
       "        4.82414960e-02],\n",
       "       [0.00000000e+00, 6.15767577e-02, 4.93555422e-02, 7.44946204e-02,\n",
       "        7.69413876e-01],\n",
       "       [8.62551070e-01, 0.00000000e+00, 4.45762176e-01, 0.00000000e+00,\n",
       "        9.43892665e-02],\n",
       "       [1.79886713e-01, 7.79820445e-01, 0.00000000e+00, 3.62222732e-01,\n",
       "        0.00000000e+00]])"
      ]
     },
     "execution_count": 6,
     "metadata": {},
     "output_type": "execute_result"
    }
   ],
   "source": [
    "W"
   ]
  },
  {
   "cell_type": "code",
   "execution_count": 7,
   "id": "3e8498f0-1ac8-4c5b-89ba-c83e0b7cde0f",
   "metadata": {},
   "outputs": [],
   "source": [
    "H.shape\n",
    "H=[*zip(*H)]"
   ]
  },
  {
   "cell_type": "code",
   "execution_count": 8,
   "id": "f276ccea-a840-49eb-b0ce-9499ef4a3f7b",
   "metadata": {},
   "outputs": [],
   "source": [
    "weights=pd.DataFrame(W)\n",
    "comps=pd.DataFrame(H)"
   ]
  },
  {
   "cell_type": "code",
   "execution_count": 9,
   "id": "a11c6df7-ebb8-45e1-832c-a598a05b820d",
   "metadata": {},
   "outputs": [
    {
     "data": {
      "text/html": [
       "<div>\n",
       "<style scoped>\n",
       "    .dataframe tbody tr th:only-of-type {\n",
       "        vertical-align: middle;\n",
       "    }\n",
       "\n",
       "    .dataframe tbody tr th {\n",
       "        vertical-align: top;\n",
       "    }\n",
       "\n",
       "    .dataframe thead th {\n",
       "        text-align: right;\n",
       "    }\n",
       "</style>\n",
       "<table border=\"1\" class=\"dataframe\">\n",
       "  <thead>\n",
       "    <tr style=\"text-align: right;\">\n",
       "      <th></th>\n",
       "      <th>0</th>\n",
       "      <th>1</th>\n",
       "      <th>2</th>\n",
       "      <th>3</th>\n",
       "      <th>4</th>\n",
       "    </tr>\n",
       "  </thead>\n",
       "  <tbody>\n",
       "    <tr>\n",
       "      <th>0</th>\n",
       "      <td>5.712035e-07</td>\n",
       "      <td>0.034292</td>\n",
       "      <td>0.243808</td>\n",
       "      <td>0.835287</td>\n",
       "      <td>0.004334</td>\n",
       "    </tr>\n",
       "    <tr>\n",
       "      <th>1</th>\n",
       "      <td>0.000000e+00</td>\n",
       "      <td>0.039494</td>\n",
       "      <td>0.567638</td>\n",
       "      <td>0.080116</td>\n",
       "      <td>0.048241</td>\n",
       "    </tr>\n",
       "    <tr>\n",
       "      <th>2</th>\n",
       "      <td>0.000000e+00</td>\n",
       "      <td>0.061577</td>\n",
       "      <td>0.049356</td>\n",
       "      <td>0.074495</td>\n",
       "      <td>0.769414</td>\n",
       "    </tr>\n",
       "    <tr>\n",
       "      <th>3</th>\n",
       "      <td>8.625511e-01</td>\n",
       "      <td>0.000000</td>\n",
       "      <td>0.445762</td>\n",
       "      <td>0.000000</td>\n",
       "      <td>0.094389</td>\n",
       "    </tr>\n",
       "    <tr>\n",
       "      <th>4</th>\n",
       "      <td>1.798867e-01</td>\n",
       "      <td>0.779820</td>\n",
       "      <td>0.000000</td>\n",
       "      <td>0.362223</td>\n",
       "      <td>0.000000</td>\n",
       "    </tr>\n",
       "  </tbody>\n",
       "</table>\n",
       "</div>"
      ],
      "text/plain": [
       "              0         1         2         3         4\n",
       "0  5.712035e-07  0.034292  0.243808  0.835287  0.004334\n",
       "1  0.000000e+00  0.039494  0.567638  0.080116  0.048241\n",
       "2  0.000000e+00  0.061577  0.049356  0.074495  0.769414\n",
       "3  8.625511e-01  0.000000  0.445762  0.000000  0.094389\n",
       "4  1.798867e-01  0.779820  0.000000  0.362223  0.000000"
      ]
     },
     "execution_count": 9,
     "metadata": {},
     "output_type": "execute_result"
    }
   ],
   "source": [
    "weights.head()"
   ]
  },
  {
   "cell_type": "code",
   "execution_count": 10,
   "id": "70d6825e-e9ff-4aae-9280-7c35c30506a9",
   "metadata": {},
   "outputs": [
    {
     "data": {
      "text/html": [
       "<div>\n",
       "<style scoped>\n",
       "    .dataframe tbody tr th:only-of-type {\n",
       "        vertical-align: middle;\n",
       "    }\n",
       "\n",
       "    .dataframe tbody tr th {\n",
       "        vertical-align: top;\n",
       "    }\n",
       "\n",
       "    .dataframe thead th {\n",
       "        text-align: right;\n",
       "    }\n",
       "</style>\n",
       "<table border=\"1\" class=\"dataframe\">\n",
       "  <thead>\n",
       "    <tr style=\"text-align: right;\">\n",
       "      <th></th>\n",
       "      <th>0</th>\n",
       "      <th>1</th>\n",
       "      <th>2</th>\n",
       "      <th>3</th>\n",
       "      <th>4</th>\n",
       "    </tr>\n",
       "  </thead>\n",
       "  <tbody>\n",
       "    <tr>\n",
       "      <th>0</th>\n",
       "      <td>0.331720</td>\n",
       "      <td>0.109268</td>\n",
       "      <td>0.162200</td>\n",
       "      <td>0.018897</td>\n",
       "      <td>0.121293</td>\n",
       "    </tr>\n",
       "    <tr>\n",
       "      <th>1</th>\n",
       "      <td>0.321378</td>\n",
       "      <td>0.105927</td>\n",
       "      <td>0.159176</td>\n",
       "      <td>0.018533</td>\n",
       "      <td>0.133326</td>\n",
       "    </tr>\n",
       "    <tr>\n",
       "      <th>2</th>\n",
       "      <td>0.305509</td>\n",
       "      <td>0.100211</td>\n",
       "      <td>0.155772</td>\n",
       "      <td>0.019678</td>\n",
       "      <td>0.149272</td>\n",
       "    </tr>\n",
       "    <tr>\n",
       "      <th>3</th>\n",
       "      <td>0.289429</td>\n",
       "      <td>0.098133</td>\n",
       "      <td>0.151993</td>\n",
       "      <td>0.019443</td>\n",
       "      <td>0.168930</td>\n",
       "    </tr>\n",
       "    <tr>\n",
       "      <th>4</th>\n",
       "      <td>0.278478</td>\n",
       "      <td>0.091879</td>\n",
       "      <td>0.148466</td>\n",
       "      <td>0.019304</td>\n",
       "      <td>0.188896</td>\n",
       "    </tr>\n",
       "    <tr>\n",
       "      <th>...</th>\n",
       "      <td>...</td>\n",
       "      <td>...</td>\n",
       "      <td>...</td>\n",
       "      <td>...</td>\n",
       "      <td>...</td>\n",
       "    </tr>\n",
       "    <tr>\n",
       "      <th>95</th>\n",
       "      <td>0.214327</td>\n",
       "      <td>0.217382</td>\n",
       "      <td>0.000000</td>\n",
       "      <td>0.040141</td>\n",
       "      <td>0.074114</td>\n",
       "    </tr>\n",
       "    <tr>\n",
       "      <th>96</th>\n",
       "      <td>0.220817</td>\n",
       "      <td>0.209203</td>\n",
       "      <td>0.000000</td>\n",
       "      <td>0.041917</td>\n",
       "      <td>0.063120</td>\n",
       "    </tr>\n",
       "    <tr>\n",
       "      <th>97</th>\n",
       "      <td>0.226927</td>\n",
       "      <td>0.203496</td>\n",
       "      <td>0.000000</td>\n",
       "      <td>0.044863</td>\n",
       "      <td>0.055630</td>\n",
       "    </tr>\n",
       "    <tr>\n",
       "      <th>98</th>\n",
       "      <td>0.232204</td>\n",
       "      <td>0.197998</td>\n",
       "      <td>0.000000</td>\n",
       "      <td>0.047729</td>\n",
       "      <td>0.055790</td>\n",
       "    </tr>\n",
       "    <tr>\n",
       "      <th>99</th>\n",
       "      <td>0.232171</td>\n",
       "      <td>0.190745</td>\n",
       "      <td>0.000000</td>\n",
       "      <td>0.050671</td>\n",
       "      <td>0.056089</td>\n",
       "    </tr>\n",
       "  </tbody>\n",
       "</table>\n",
       "<p>100 rows × 5 columns</p>\n",
       "</div>"
      ],
      "text/plain": [
       "           0         1         2         3         4\n",
       "0   0.331720  0.109268  0.162200  0.018897  0.121293\n",
       "1   0.321378  0.105927  0.159176  0.018533  0.133326\n",
       "2   0.305509  0.100211  0.155772  0.019678  0.149272\n",
       "3   0.289429  0.098133  0.151993  0.019443  0.168930\n",
       "4   0.278478  0.091879  0.148466  0.019304  0.188896\n",
       "..       ...       ...       ...       ...       ...\n",
       "95  0.214327  0.217382  0.000000  0.040141  0.074114\n",
       "96  0.220817  0.209203  0.000000  0.041917  0.063120\n",
       "97  0.226927  0.203496  0.000000  0.044863  0.055630\n",
       "98  0.232204  0.197998  0.000000  0.047729  0.055790\n",
       "99  0.232171  0.190745  0.000000  0.050671  0.056089\n",
       "\n",
       "[100 rows x 5 columns]"
      ]
     },
     "execution_count": 10,
     "metadata": {},
     "output_type": "execute_result"
    }
   ],
   "source": [
    "comps.head(100)"
   ]
  },
  {
   "cell_type": "code",
   "execution_count": 11,
   "id": "7f4709eb-ffec-47fd-8aa9-07aaf768f240",
   "metadata": {},
   "outputs": [],
   "source": [
    "weights.to_excel(excel_writer = \"/Users/alessandro/Desktop/weights-bec-post.xlsx\")\n",
    "comps.to_excel(excel_writer = \"/Users/alessandro/Desktop/comps-bec-post.xlsx\")"
   ]
  }
 ],
 "metadata": {
  "kernelspec": {
   "display_name": "Python 3 (ipykernel)",
   "language": "python",
   "name": "python3"
  },
  "language_info": {
   "codemirror_mode": {
    "name": "ipython",
    "version": 3
   },
   "file_extension": ".py",
   "mimetype": "text/x-python",
   "name": "python",
   "nbconvert_exporter": "python",
   "pygments_lexer": "ipython3",
   "version": "3.9.12"
  }
 },
 "nbformat": 4,
 "nbformat_minor": 5
}
