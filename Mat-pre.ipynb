{
 "cells": [
  {
   "cell_type": "code",
   "execution_count": 1,
   "id": "aeb16204-85c5-4e63-a9e0-38fe80db7b81",
   "metadata": {},
   "outputs": [],
   "source": [
    "import numpy as np\n",
    "import pandas as pd\n",
    "from sklearn.decomposition import NMF\n",
    "\n",
    "col_post=pd.DataFrame(pd.read_csv('Matteis pre.csv'))"
   ]
  },
  {
   "cell_type": "code",
   "execution_count": 2,
   "id": "c0078caf-8550-406b-9f3c-efc536a3add4",
   "metadata": {},
   "outputs": [
    {
     "data": {
      "text/html": [
       "<div>\n",
       "<style scoped>\n",
       "    .dataframe tbody tr th:only-of-type {\n",
       "        vertical-align: middle;\n",
       "    }\n",
       "\n",
       "    .dataframe tbody tr th {\n",
       "        vertical-align: top;\n",
       "    }\n",
       "\n",
       "    .dataframe thead th {\n",
       "        text-align: right;\n",
       "    }\n",
       "</style>\n",
       "<table border=\"1\" class=\"dataframe\">\n",
       "  <thead>\n",
       "    <tr style=\"text-align: right;\">\n",
       "      <th></th>\n",
       "      <th>Right Vastus lateralis~5</th>\n",
       "      <th>Right Biceps femoris caput longus~5</th>\n",
       "      <th>Right Gastrocnemius lateralis~5</th>\n",
       "      <th>Right Gluteus maximus~5</th>\n",
       "      <th>Right Rectus femoris~5</th>\n",
       "    </tr>\n",
       "  </thead>\n",
       "  <tbody>\n",
       "    <tr>\n",
       "      <th>0</th>\n",
       "      <td>0.050817</td>\n",
       "      <td>0.151515</td>\n",
       "      <td>0.336735</td>\n",
       "      <td>0.068966</td>\n",
       "      <td>0.056511</td>\n",
       "    </tr>\n",
       "    <tr>\n",
       "      <th>1</th>\n",
       "      <td>0.049002</td>\n",
       "      <td>0.151515</td>\n",
       "      <td>0.346939</td>\n",
       "      <td>0.060345</td>\n",
       "      <td>0.056511</td>\n",
       "    </tr>\n",
       "    <tr>\n",
       "      <th>2</th>\n",
       "      <td>0.048094</td>\n",
       "      <td>0.156566</td>\n",
       "      <td>0.346939</td>\n",
       "      <td>0.060345</td>\n",
       "      <td>0.056511</td>\n",
       "    </tr>\n",
       "    <tr>\n",
       "      <th>3</th>\n",
       "      <td>0.047187</td>\n",
       "      <td>0.161616</td>\n",
       "      <td>0.346939</td>\n",
       "      <td>0.060345</td>\n",
       "      <td>0.056511</td>\n",
       "    </tr>\n",
       "    <tr>\n",
       "      <th>4</th>\n",
       "      <td>0.046279</td>\n",
       "      <td>0.166667</td>\n",
       "      <td>0.341837</td>\n",
       "      <td>0.051724</td>\n",
       "      <td>0.056511</td>\n",
       "    </tr>\n",
       "  </tbody>\n",
       "</table>\n",
       "</div>"
      ],
      "text/plain": [
       "   Right Vastus lateralis~5  Right Biceps femoris caput longus~5  \\\n",
       "0                  0.050817                             0.151515   \n",
       "1                  0.049002                             0.151515   \n",
       "2                  0.048094                             0.156566   \n",
       "3                  0.047187                             0.161616   \n",
       "4                  0.046279                             0.166667   \n",
       "\n",
       "   Right Gastrocnemius lateralis~5  Right Gluteus maximus~5  \\\n",
       "0                         0.336735                 0.068966   \n",
       "1                         0.346939                 0.060345   \n",
       "2                         0.346939                 0.060345   \n",
       "3                         0.346939                 0.060345   \n",
       "4                         0.341837                 0.051724   \n",
       "\n",
       "   Right Rectus femoris~5  \n",
       "0                0.056511  \n",
       "1                0.056511  \n",
       "2                0.056511  \n",
       "3                0.056511  \n",
       "4                0.056511  "
      ]
     },
     "execution_count": 2,
     "metadata": {},
     "output_type": "execute_result"
    }
   ],
   "source": [
    "col_post.head()"
   ]
  },
  {
   "cell_type": "code",
   "execution_count": 3,
   "id": "b6d63393-a70b-4bbf-a6a5-53c1af488bba",
   "metadata": {},
   "outputs": [],
   "source": [
    "vasto=col_post.iloc[:,0].to_numpy()\n",
    "femor=col_post.iloc[:,1].to_numpy()\n",
    "polp=col_post.iloc[:,2].to_numpy()\n",
    "glute=col_post.iloc[:,3].to_numpy()\n",
    "quad=col_post.iloc[:,4].to_numpy()"
   ]
  },
  {
   "cell_type": "code",
   "execution_count": 4,
   "id": "bb3b800f-09fd-494d-9376-66126301cd59",
   "metadata": {},
   "outputs": [],
   "source": [
    "X=[vasto,femor,polp,glute,quad]"
   ]
  },
  {
   "cell_type": "code",
   "execution_count": 5,
   "id": "f179d987-7ca0-47a2-9a8d-7d2f685150e9",
   "metadata": {
    "tags": []
   },
   "outputs": [
    {
     "name": "stderr",
     "output_type": "stream",
     "text": [
      "/Users/alessandro/opt/anaconda3/lib/python3.9/site-packages/sklearn/decomposition/_nmf.py:1637: ConvergenceWarning: Maximum number of iterations 200 reached. Increase it to improve convergence.\n",
      "  warnings.warn(\n"
     ]
    }
   ],
   "source": [
    "model = NMF(n_components=5, init='random', random_state=0)\n",
    "W = model.fit_transform(X)\n",
    "H = model.components_"
   ]
  },
  {
   "cell_type": "code",
   "execution_count": 6,
   "id": "cddf8196-8188-45dd-9b36-96b0596a0f42",
   "metadata": {
    "tags": []
   },
   "outputs": [
    {
     "data": {
      "text/plain": [
       "array([[1.30354203e-01, 3.93291078e-02, 5.58549586e-01, 3.66648075e-01,\n",
       "        7.22840148e-03],\n",
       "       [7.05763385e-01, 7.14767692e-04, 1.83746465e-01, 4.28743242e-02,\n",
       "        2.11654117e-01],\n",
       "       [0.00000000e+00, 3.75699486e-02, 8.94352141e-03, 6.53104313e-02,\n",
       "        5.71500735e-01],\n",
       "       [5.83330287e-02, 7.56728937e-01, 1.02948380e-01, 0.00000000e+00,\n",
       "        7.72993100e-02],\n",
       "       [1.32701216e-01, 1.12484019e-01, 3.02029324e-01, 6.23555517e-01,\n",
       "        0.00000000e+00]])"
      ]
     },
     "execution_count": 6,
     "metadata": {},
     "output_type": "execute_result"
    }
   ],
   "source": [
    "W"
   ]
  },
  {
   "cell_type": "code",
   "execution_count": 7,
   "id": "3e8498f0-1ac8-4c5b-89ba-c83e0b7cde0f",
   "metadata": {},
   "outputs": [],
   "source": [
    "H.shape\n",
    "H=[*zip(*H)]"
   ]
  },
  {
   "cell_type": "code",
   "execution_count": 8,
   "id": "f276ccea-a840-49eb-b0ce-9499ef4a3f7b",
   "metadata": {},
   "outputs": [],
   "source": [
    "weights=pd.DataFrame(W)\n",
    "comps=pd.DataFrame(H)"
   ]
  },
  {
   "cell_type": "code",
   "execution_count": 9,
   "id": "a11c6df7-ebb8-45e1-832c-a598a05b820d",
   "metadata": {},
   "outputs": [
    {
     "data": {
      "text/html": [
       "<div>\n",
       "<style scoped>\n",
       "    .dataframe tbody tr th:only-of-type {\n",
       "        vertical-align: middle;\n",
       "    }\n",
       "\n",
       "    .dataframe tbody tr th {\n",
       "        vertical-align: top;\n",
       "    }\n",
       "\n",
       "    .dataframe thead th {\n",
       "        text-align: right;\n",
       "    }\n",
       "</style>\n",
       "<table border=\"1\" class=\"dataframe\">\n",
       "  <thead>\n",
       "    <tr style=\"text-align: right;\">\n",
       "      <th></th>\n",
       "      <th>0</th>\n",
       "      <th>1</th>\n",
       "      <th>2</th>\n",
       "      <th>3</th>\n",
       "      <th>4</th>\n",
       "    </tr>\n",
       "  </thead>\n",
       "  <tbody>\n",
       "    <tr>\n",
       "      <th>0</th>\n",
       "      <td>0.130354</td>\n",
       "      <td>0.039329</td>\n",
       "      <td>0.558550</td>\n",
       "      <td>0.366648</td>\n",
       "      <td>0.007228</td>\n",
       "    </tr>\n",
       "    <tr>\n",
       "      <th>1</th>\n",
       "      <td>0.705763</td>\n",
       "      <td>0.000715</td>\n",
       "      <td>0.183746</td>\n",
       "      <td>0.042874</td>\n",
       "      <td>0.211654</td>\n",
       "    </tr>\n",
       "    <tr>\n",
       "      <th>2</th>\n",
       "      <td>0.000000</td>\n",
       "      <td>0.037570</td>\n",
       "      <td>0.008944</td>\n",
       "      <td>0.065310</td>\n",
       "      <td>0.571501</td>\n",
       "    </tr>\n",
       "    <tr>\n",
       "      <th>3</th>\n",
       "      <td>0.058333</td>\n",
       "      <td>0.756729</td>\n",
       "      <td>0.102948</td>\n",
       "      <td>0.000000</td>\n",
       "      <td>0.077299</td>\n",
       "    </tr>\n",
       "    <tr>\n",
       "      <th>4</th>\n",
       "      <td>0.132701</td>\n",
       "      <td>0.112484</td>\n",
       "      <td>0.302029</td>\n",
       "      <td>0.623556</td>\n",
       "      <td>0.000000</td>\n",
       "    </tr>\n",
       "  </tbody>\n",
       "</table>\n",
       "</div>"
      ],
      "text/plain": [
       "          0         1         2         3         4\n",
       "0  0.130354  0.039329  0.558550  0.366648  0.007228\n",
       "1  0.705763  0.000715  0.183746  0.042874  0.211654\n",
       "2  0.000000  0.037570  0.008944  0.065310  0.571501\n",
       "3  0.058333  0.756729  0.102948  0.000000  0.077299\n",
       "4  0.132701  0.112484  0.302029  0.623556  0.000000"
      ]
     },
     "execution_count": 9,
     "metadata": {},
     "output_type": "execute_result"
    }
   ],
   "source": [
    "weights.head()"
   ]
  },
  {
   "cell_type": "code",
   "execution_count": 10,
   "id": "70d6825e-e9ff-4aae-9280-7c35c30506a9",
   "metadata": {},
   "outputs": [
    {
     "data": {
      "text/html": [
       "<div>\n",
       "<style scoped>\n",
       "    .dataframe tbody tr th:only-of-type {\n",
       "        vertical-align: middle;\n",
       "    }\n",
       "\n",
       "    .dataframe tbody tr th {\n",
       "        vertical-align: top;\n",
       "    }\n",
       "\n",
       "    .dataframe thead th {\n",
       "        text-align: right;\n",
       "    }\n",
       "</style>\n",
       "<table border=\"1\" class=\"dataframe\">\n",
       "  <thead>\n",
       "    <tr style=\"text-align: right;\">\n",
       "      <th></th>\n",
       "      <th>0</th>\n",
       "      <th>1</th>\n",
       "      <th>2</th>\n",
       "      <th>3</th>\n",
       "      <th>4</th>\n",
       "    </tr>\n",
       "  </thead>\n",
       "  <tbody>\n",
       "    <tr>\n",
       "      <th>0</th>\n",
       "      <td>0.028382</td>\n",
       "      <td>0.025268</td>\n",
       "      <td>0.032854</td>\n",
       "      <td>0.064165</td>\n",
       "      <td>0.579693</td>\n",
       "    </tr>\n",
       "    <tr>\n",
       "      <th>1</th>\n",
       "      <td>0.024028</td>\n",
       "      <td>0.013098</td>\n",
       "      <td>0.027464</td>\n",
       "      <td>0.069905</td>\n",
       "      <td>0.597776</td>\n",
       "    </tr>\n",
       "    <tr>\n",
       "      <th>2</th>\n",
       "      <td>0.032075</td>\n",
       "      <td>0.012947</td>\n",
       "      <td>0.023967</td>\n",
       "      <td>0.069912</td>\n",
       "      <td>0.597839</td>\n",
       "    </tr>\n",
       "    <tr>\n",
       "      <th>3</th>\n",
       "      <td>0.040123</td>\n",
       "      <td>0.012797</td>\n",
       "      <td>0.020471</td>\n",
       "      <td>0.069920</td>\n",
       "      <td>0.597903</td>\n",
       "    </tr>\n",
       "    <tr>\n",
       "      <th>4</th>\n",
       "      <td>0.050849</td>\n",
       "      <td>0.002039</td>\n",
       "      <td>0.016009</td>\n",
       "      <td>0.071741</td>\n",
       "      <td>0.589544</td>\n",
       "    </tr>\n",
       "    <tr>\n",
       "      <th>...</th>\n",
       "      <td>...</td>\n",
       "      <td>...</td>\n",
       "      <td>...</td>\n",
       "      <td>...</td>\n",
       "      <td>...</td>\n",
       "    </tr>\n",
       "    <tr>\n",
       "      <th>95</th>\n",
       "      <td>0.130497</td>\n",
       "      <td>0.107484</td>\n",
       "      <td>0.094192</td>\n",
       "      <td>0.084510</td>\n",
       "      <td>0.062149</td>\n",
       "    </tr>\n",
       "    <tr>\n",
       "      <th>96</th>\n",
       "      <td>0.121558</td>\n",
       "      <td>0.118595</td>\n",
       "      <td>0.101964</td>\n",
       "      <td>0.084581</td>\n",
       "      <td>0.061290</td>\n",
       "    </tr>\n",
       "    <tr>\n",
       "      <th>97</th>\n",
       "      <td>0.120064</td>\n",
       "      <td>0.129259</td>\n",
       "      <td>0.108681</td>\n",
       "      <td>0.083659</td>\n",
       "      <td>0.060589</td>\n",
       "    </tr>\n",
       "    <tr>\n",
       "      <th>98</th>\n",
       "      <td>0.118569</td>\n",
       "      <td>0.139924</td>\n",
       "      <td>0.115398</td>\n",
       "      <td>0.082737</td>\n",
       "      <td>0.059889</td>\n",
       "    </tr>\n",
       "    <tr>\n",
       "      <th>99</th>\n",
       "      <td>0.106636</td>\n",
       "      <td>0.150091</td>\n",
       "      <td>0.124743</td>\n",
       "      <td>0.078914</td>\n",
       "      <td>0.068440</td>\n",
       "    </tr>\n",
       "  </tbody>\n",
       "</table>\n",
       "<p>100 rows × 5 columns</p>\n",
       "</div>"
      ],
      "text/plain": [
       "           0         1         2         3         4\n",
       "0   0.028382  0.025268  0.032854  0.064165  0.579693\n",
       "1   0.024028  0.013098  0.027464  0.069905  0.597776\n",
       "2   0.032075  0.012947  0.023967  0.069912  0.597839\n",
       "3   0.040123  0.012797  0.020471  0.069920  0.597903\n",
       "4   0.050849  0.002039  0.016009  0.071741  0.589544\n",
       "..       ...       ...       ...       ...       ...\n",
       "95  0.130497  0.107484  0.094192  0.084510  0.062149\n",
       "96  0.121558  0.118595  0.101964  0.084581  0.061290\n",
       "97  0.120064  0.129259  0.108681  0.083659  0.060589\n",
       "98  0.118569  0.139924  0.115398  0.082737  0.059889\n",
       "99  0.106636  0.150091  0.124743  0.078914  0.068440\n",
       "\n",
       "[100 rows x 5 columns]"
      ]
     },
     "execution_count": 10,
     "metadata": {},
     "output_type": "execute_result"
    }
   ],
   "source": [
    "comps.head(100)"
   ]
  },
  {
   "cell_type": "code",
   "execution_count": 11,
   "id": "7f4709eb-ffec-47fd-8aa9-07aaf768f240",
   "metadata": {},
   "outputs": [],
   "source": [
    "weights.to_excel(excel_writer = \"/Users/alessandro/Desktop/weights-mat-pre.xlsx\")\n",
    "comps.to_excel(excel_writer = \"/Users/alessandro/Desktop/comps-mat-pre.xlsx\")"
   ]
  }
 ],
 "metadata": {
  "kernelspec": {
   "display_name": "Python 3 (ipykernel)",
   "language": "python",
   "name": "python3"
  },
  "language_info": {
   "codemirror_mode": {
    "name": "ipython",
    "version": 3
   },
   "file_extension": ".py",
   "mimetype": "text/x-python",
   "name": "python",
   "nbconvert_exporter": "python",
   "pygments_lexer": "ipython3",
   "version": "3.9.12"
  }
 },
 "nbformat": 4,
 "nbformat_minor": 5
}
