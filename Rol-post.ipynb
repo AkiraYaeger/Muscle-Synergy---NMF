{
 "cells": [
  {
   "cell_type": "code",
   "execution_count": 1,
   "id": "aeb16204-85c5-4e63-a9e0-38fe80db7b81",
   "metadata": {},
   "outputs": [],
   "source": [
    "import numpy as np\n",
    "import pandas as pd\n",
    "from sklearn.decomposition import NMF\n",
    "\n",
    "col_post=pd.DataFrame(pd.read_csv('Roletto post.csv'))"
   ]
  },
  {
   "cell_type": "code",
   "execution_count": 2,
   "id": "c0078caf-8550-406b-9f3c-efc536a3add4",
   "metadata": {},
   "outputs": [
    {
     "data": {
      "text/html": [
       "<div>\n",
       "<style scoped>\n",
       "    .dataframe tbody tr th:only-of-type {\n",
       "        vertical-align: middle;\n",
       "    }\n",
       "\n",
       "    .dataframe tbody tr th {\n",
       "        vertical-align: top;\n",
       "    }\n",
       "\n",
       "    .dataframe thead th {\n",
       "        text-align: right;\n",
       "    }\n",
       "</style>\n",
       "<table border=\"1\" class=\"dataframe\">\n",
       "  <thead>\n",
       "    <tr style=\"text-align: right;\">\n",
       "      <th></th>\n",
       "      <th>Right Vastus lateralis~5</th>\n",
       "      <th>Right Biceps femoris caput longus~5</th>\n",
       "      <th>Right Gastrocnemius lateralis~5</th>\n",
       "      <th>Right Gluteus maximus~5</th>\n",
       "      <th>Right Rectus femoris~5</th>\n",
       "    </tr>\n",
       "  </thead>\n",
       "  <tbody>\n",
       "    <tr>\n",
       "      <th>0</th>\n",
       "      <td>0.793970</td>\n",
       "      <td>0.601190</td>\n",
       "      <td>0.134615</td>\n",
       "      <td>0.944724</td>\n",
       "      <td>0.640541</td>\n",
       "    </tr>\n",
       "    <tr>\n",
       "      <th>1</th>\n",
       "      <td>0.778894</td>\n",
       "      <td>0.607143</td>\n",
       "      <td>0.134615</td>\n",
       "      <td>0.919598</td>\n",
       "      <td>0.627027</td>\n",
       "    </tr>\n",
       "    <tr>\n",
       "      <th>2</th>\n",
       "      <td>0.766332</td>\n",
       "      <td>0.613095</td>\n",
       "      <td>0.134615</td>\n",
       "      <td>0.899497</td>\n",
       "      <td>0.613514</td>\n",
       "    </tr>\n",
       "    <tr>\n",
       "      <th>3</th>\n",
       "      <td>0.751256</td>\n",
       "      <td>0.619048</td>\n",
       "      <td>0.134615</td>\n",
       "      <td>0.874372</td>\n",
       "      <td>0.602703</td>\n",
       "    </tr>\n",
       "    <tr>\n",
       "      <th>4</th>\n",
       "      <td>0.738693</td>\n",
       "      <td>0.625000</td>\n",
       "      <td>0.134615</td>\n",
       "      <td>0.849246</td>\n",
       "      <td>0.589189</td>\n",
       "    </tr>\n",
       "  </tbody>\n",
       "</table>\n",
       "</div>"
      ],
      "text/plain": [
       "   Right Vastus lateralis~5  Right Biceps femoris caput longus~5  \\\n",
       "0                  0.793970                             0.601190   \n",
       "1                  0.778894                             0.607143   \n",
       "2                  0.766332                             0.613095   \n",
       "3                  0.751256                             0.619048   \n",
       "4                  0.738693                             0.625000   \n",
       "\n",
       "   Right Gastrocnemius lateralis~5  Right Gluteus maximus~5  \\\n",
       "0                         0.134615                 0.944724   \n",
       "1                         0.134615                 0.919598   \n",
       "2                         0.134615                 0.899497   \n",
       "3                         0.134615                 0.874372   \n",
       "4                         0.134615                 0.849246   \n",
       "\n",
       "   Right Rectus femoris~5  \n",
       "0                0.640541  \n",
       "1                0.627027  \n",
       "2                0.613514  \n",
       "3                0.602703  \n",
       "4                0.589189  "
      ]
     },
     "execution_count": 2,
     "metadata": {},
     "output_type": "execute_result"
    }
   ],
   "source": [
    "col_post.head()"
   ]
  },
  {
   "cell_type": "code",
   "execution_count": 3,
   "id": "b6d63393-a70b-4bbf-a6a5-53c1af488bba",
   "metadata": {},
   "outputs": [],
   "source": [
    "vasto=col_post.iloc[:,0].to_numpy()\n",
    "femor=col_post.iloc[:,1].to_numpy()\n",
    "polp=col_post.iloc[:,2].to_numpy()\n",
    "glute=col_post.iloc[:,3].to_numpy()\n",
    "quad=col_post.iloc[:,4].to_numpy()"
   ]
  },
  {
   "cell_type": "code",
   "execution_count": 4,
   "id": "bb3b800f-09fd-494d-9376-66126301cd59",
   "metadata": {},
   "outputs": [],
   "source": [
    "X=[vasto,femor,polp,glute,quad]"
   ]
  },
  {
   "cell_type": "code",
   "execution_count": 5,
   "id": "f179d987-7ca0-47a2-9a8d-7d2f685150e9",
   "metadata": {
    "tags": []
   },
   "outputs": [
    {
     "name": "stderr",
     "output_type": "stream",
     "text": [
      "/Users/alessandro/opt/anaconda3/lib/python3.9/site-packages/sklearn/decomposition/_nmf.py:1637: ConvergenceWarning: Maximum number of iterations 200 reached. Increase it to improve convergence.\n",
      "  warnings.warn(\n"
     ]
    }
   ],
   "source": [
    "model = NMF(n_components=5, init='random', random_state=0)\n",
    "W = model.fit_transform(X)\n",
    "H = model.components_"
   ]
  },
  {
   "cell_type": "code",
   "execution_count": 6,
   "id": "cddf8196-8188-45dd-9b36-96b0596a0f42",
   "metadata": {
    "tags": []
   },
   "outputs": [
    {
     "data": {
      "text/plain": [
       "array([[0.        , 0.6097356 , 0.41438238, 0.64319097, 0.        ],\n",
       "       [0.77498885, 0.        , 0.        , 0.61203798, 0.40098388],\n",
       "       [0.        , 0.15519559, 0.        , 0.28771251, 0.53149874],\n",
       "       [0.        , 0.        , 1.00956849, 0.        , 0.3551369 ],\n",
       "       [0.13535056, 0.91105642, 0.07349795, 0.        , 0.10755674]])"
      ]
     },
     "execution_count": 6,
     "metadata": {},
     "output_type": "execute_result"
    }
   ],
   "source": [
    "W"
   ]
  },
  {
   "cell_type": "code",
   "execution_count": 7,
   "id": "3e8498f0-1ac8-4c5b-89ba-c83e0b7cde0f",
   "metadata": {},
   "outputs": [],
   "source": [
    "H.shape\n",
    "H=[*zip(*H)]"
   ]
  },
  {
   "cell_type": "code",
   "execution_count": 8,
   "id": "f276ccea-a840-49eb-b0ce-9499ef4a3f7b",
   "metadata": {},
   "outputs": [],
   "source": [
    "weights=pd.DataFrame(W)\n",
    "comps=pd.DataFrame(H)"
   ]
  },
  {
   "cell_type": "code",
   "execution_count": 9,
   "id": "a11c6df7-ebb8-45e1-832c-a598a05b820d",
   "metadata": {},
   "outputs": [
    {
     "data": {
      "text/html": [
       "<div>\n",
       "<style scoped>\n",
       "    .dataframe tbody tr th:only-of-type {\n",
       "        vertical-align: middle;\n",
       "    }\n",
       "\n",
       "    .dataframe tbody tr th {\n",
       "        vertical-align: top;\n",
       "    }\n",
       "\n",
       "    .dataframe thead th {\n",
       "        text-align: right;\n",
       "    }\n",
       "</style>\n",
       "<table border=\"1\" class=\"dataframe\">\n",
       "  <thead>\n",
       "    <tr style=\"text-align: right;\">\n",
       "      <th></th>\n",
       "      <th>0</th>\n",
       "      <th>1</th>\n",
       "      <th>2</th>\n",
       "      <th>3</th>\n",
       "      <th>4</th>\n",
       "    </tr>\n",
       "  </thead>\n",
       "  <tbody>\n",
       "    <tr>\n",
       "      <th>0</th>\n",
       "      <td>0.000000</td>\n",
       "      <td>0.609736</td>\n",
       "      <td>0.414382</td>\n",
       "      <td>0.643191</td>\n",
       "      <td>0.000000</td>\n",
       "    </tr>\n",
       "    <tr>\n",
       "      <th>1</th>\n",
       "      <td>0.774989</td>\n",
       "      <td>0.000000</td>\n",
       "      <td>0.000000</td>\n",
       "      <td>0.612038</td>\n",
       "      <td>0.400984</td>\n",
       "    </tr>\n",
       "    <tr>\n",
       "      <th>2</th>\n",
       "      <td>0.000000</td>\n",
       "      <td>0.155196</td>\n",
       "      <td>0.000000</td>\n",
       "      <td>0.287713</td>\n",
       "      <td>0.531499</td>\n",
       "    </tr>\n",
       "    <tr>\n",
       "      <th>3</th>\n",
       "      <td>0.000000</td>\n",
       "      <td>0.000000</td>\n",
       "      <td>1.009568</td>\n",
       "      <td>0.000000</td>\n",
       "      <td>0.355137</td>\n",
       "    </tr>\n",
       "    <tr>\n",
       "      <th>4</th>\n",
       "      <td>0.135351</td>\n",
       "      <td>0.911056</td>\n",
       "      <td>0.073498</td>\n",
       "      <td>0.000000</td>\n",
       "      <td>0.107557</td>\n",
       "    </tr>\n",
       "  </tbody>\n",
       "</table>\n",
       "</div>"
      ],
      "text/plain": [
       "          0         1         2         3         4\n",
       "0  0.000000  0.609736  0.414382  0.643191  0.000000\n",
       "1  0.774989  0.000000  0.000000  0.612038  0.400984\n",
       "2  0.000000  0.155196  0.000000  0.287713  0.531499\n",
       "3  0.000000  0.000000  1.009568  0.000000  0.355137\n",
       "4  0.135351  0.911056  0.073498  0.000000  0.107557"
      ]
     },
     "execution_count": 9,
     "metadata": {},
     "output_type": "execute_result"
    }
   ],
   "source": [
    "weights.head()"
   ]
  },
  {
   "cell_type": "code",
   "execution_count": 10,
   "id": "70d6825e-e9ff-4aae-9280-7c35c30506a9",
   "metadata": {},
   "outputs": [
    {
     "data": {
      "text/html": [
       "<div>\n",
       "<style scoped>\n",
       "    .dataframe tbody tr th:only-of-type {\n",
       "        vertical-align: middle;\n",
       "    }\n",
       "\n",
       "    .dataframe tbody tr th {\n",
       "        vertical-align: top;\n",
       "    }\n",
       "\n",
       "    .dataframe thead th {\n",
       "        text-align: right;\n",
       "    }\n",
       "</style>\n",
       "<table border=\"1\" class=\"dataframe\">\n",
       "  <thead>\n",
       "    <tr style=\"text-align: right;\">\n",
       "      <th></th>\n",
       "      <th>0</th>\n",
       "      <th>1</th>\n",
       "      <th>2</th>\n",
       "      <th>3</th>\n",
       "      <th>4</th>\n",
       "    </tr>\n",
       "  </thead>\n",
       "  <tbody>\n",
       "    <tr>\n",
       "      <th>0</th>\n",
       "      <td>0.656517</td>\n",
       "      <td>0.528403</td>\n",
       "      <td>0.927449</td>\n",
       "      <td>0.135732</td>\n",
       "      <td>0.024365</td>\n",
       "    </tr>\n",
       "    <tr>\n",
       "      <th>1</th>\n",
       "      <td>0.659327</td>\n",
       "      <td>0.515044</td>\n",
       "      <td>0.902208</td>\n",
       "      <td>0.141232</td>\n",
       "      <td>0.025338</td>\n",
       "    </tr>\n",
       "    <tr>\n",
       "      <th>2</th>\n",
       "      <td>0.661651</td>\n",
       "      <td>0.501397</td>\n",
       "      <td>0.882086</td>\n",
       "      <td>0.147612</td>\n",
       "      <td>0.025913</td>\n",
       "    </tr>\n",
       "    <tr>\n",
       "      <th>3</th>\n",
       "      <td>0.666100</td>\n",
       "      <td>0.490716</td>\n",
       "      <td>0.856661</td>\n",
       "      <td>0.150694</td>\n",
       "      <td>0.027411</td>\n",
       "    </tr>\n",
       "    <tr>\n",
       "      <th>4</th>\n",
       "      <td>0.667377</td>\n",
       "      <td>0.477746</td>\n",
       "      <td>0.832059</td>\n",
       "      <td>0.159324</td>\n",
       "      <td>0.026573</td>\n",
       "    </tr>\n",
       "    <tr>\n",
       "      <th>...</th>\n",
       "      <td>...</td>\n",
       "      <td>...</td>\n",
       "      <td>...</td>\n",
       "      <td>...</td>\n",
       "      <td>...</td>\n",
       "    </tr>\n",
       "    <tr>\n",
       "      <th>95</th>\n",
       "      <td>0.194950</td>\n",
       "      <td>0.014071</td>\n",
       "      <td>0.197717</td>\n",
       "      <td>0.186947</td>\n",
       "      <td>0.583279</td>\n",
       "    </tr>\n",
       "    <tr>\n",
       "      <th>96</th>\n",
       "      <td>0.193418</td>\n",
       "      <td>0.014459</td>\n",
       "      <td>0.198355</td>\n",
       "      <td>0.190077</td>\n",
       "      <td>0.581468</td>\n",
       "    </tr>\n",
       "    <tr>\n",
       "      <th>97</th>\n",
       "      <td>0.190839</td>\n",
       "      <td>0.015524</td>\n",
       "      <td>0.194512</td>\n",
       "      <td>0.195458</td>\n",
       "      <td>0.578244</td>\n",
       "    </tr>\n",
       "    <tr>\n",
       "      <th>98</th>\n",
       "      <td>0.197990</td>\n",
       "      <td>0.017557</td>\n",
       "      <td>0.195035</td>\n",
       "      <td>0.197104</td>\n",
       "      <td>0.576758</td>\n",
       "    </tr>\n",
       "    <tr>\n",
       "      <th>99</th>\n",
       "      <td>0.188366</td>\n",
       "      <td>0.019655</td>\n",
       "      <td>0.191123</td>\n",
       "      <td>0.201550</td>\n",
       "      <td>0.573734</td>\n",
       "    </tr>\n",
       "  </tbody>\n",
       "</table>\n",
       "<p>100 rows × 5 columns</p>\n",
       "</div>"
      ],
      "text/plain": [
       "           0         1         2         3         4\n",
       "0   0.656517  0.528403  0.927449  0.135732  0.024365\n",
       "1   0.659327  0.515044  0.902208  0.141232  0.025338\n",
       "2   0.661651  0.501397  0.882086  0.147612  0.025913\n",
       "3   0.666100  0.490716  0.856661  0.150694  0.027411\n",
       "4   0.667377  0.477746  0.832059  0.159324  0.026573\n",
       "..       ...       ...       ...       ...       ...\n",
       "95  0.194950  0.014071  0.197717  0.186947  0.583279\n",
       "96  0.193418  0.014459  0.198355  0.190077  0.581468\n",
       "97  0.190839  0.015524  0.194512  0.195458  0.578244\n",
       "98  0.197990  0.017557  0.195035  0.197104  0.576758\n",
       "99  0.188366  0.019655  0.191123  0.201550  0.573734\n",
       "\n",
       "[100 rows x 5 columns]"
      ]
     },
     "execution_count": 10,
     "metadata": {},
     "output_type": "execute_result"
    }
   ],
   "source": [
    "comps.head(100)"
   ]
  },
  {
   "cell_type": "code",
   "execution_count": 11,
   "id": "7f4709eb-ffec-47fd-8aa9-07aaf768f240",
   "metadata": {},
   "outputs": [],
   "source": [
    "weights.to_excel(excel_writer = \"/Users/alessandro/Desktop/weights-rol-post.xlsx\")\n",
    "comps.to_excel(excel_writer = \"/Users/alessandro/Desktop/comps-rol-post.xlsx\")"
   ]
  }
 ],
 "metadata": {
  "kernelspec": {
   "display_name": "Python 3 (ipykernel)",
   "language": "python",
   "name": "python3"
  },
  "language_info": {
   "codemirror_mode": {
    "name": "ipython",
    "version": 3
   },
   "file_extension": ".py",
   "mimetype": "text/x-python",
   "name": "python",
   "nbconvert_exporter": "python",
   "pygments_lexer": "ipython3",
   "version": "3.9.12"
  }
 },
 "nbformat": 4,
 "nbformat_minor": 5
}
