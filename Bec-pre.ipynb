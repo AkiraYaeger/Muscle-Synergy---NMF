{
 "cells": [
  {
   "cell_type": "code",
   "execution_count": 1,
   "id": "aeb16204-85c5-4e63-a9e0-38fe80db7b81",
   "metadata": {},
   "outputs": [],
   "source": [
    "import numpy as np\n",
    "import pandas as pd\n",
    "from sklearn.decomposition import NMF\n",
    "\n",
    "col_post=pd.DataFrame(pd.read_csv('Becuti pre.csv'))"
   ]
  },
  {
   "cell_type": "code",
   "execution_count": 2,
   "id": "c0078caf-8550-406b-9f3c-efc536a3add4",
   "metadata": {},
   "outputs": [
    {
     "data": {
      "text/html": [
       "<div>\n",
       "<style scoped>\n",
       "    .dataframe tbody tr th:only-of-type {\n",
       "        vertical-align: middle;\n",
       "    }\n",
       "\n",
       "    .dataframe tbody tr th {\n",
       "        vertical-align: top;\n",
       "    }\n",
       "\n",
       "    .dataframe thead th {\n",
       "        text-align: right;\n",
       "    }\n",
       "</style>\n",
       "<table border=\"1\" class=\"dataframe\">\n",
       "  <thead>\n",
       "    <tr style=\"text-align: right;\">\n",
       "      <th></th>\n",
       "      <th>Right Vastus lateralis~5</th>\n",
       "      <th>Right Biceps femoris caput longus~5</th>\n",
       "      <th>Right Gastrocnemius lateralis~5</th>\n",
       "      <th>Right Gluteus maximus~5</th>\n",
       "      <th>Right Rectus femoris~5</th>\n",
       "    </tr>\n",
       "  </thead>\n",
       "  <tbody>\n",
       "    <tr>\n",
       "      <th>0</th>\n",
       "      <td>0.065121</td>\n",
       "      <td>0.088197</td>\n",
       "      <td>0.289941</td>\n",
       "      <td>0.328767</td>\n",
       "      <td>0.062069</td>\n",
       "    </tr>\n",
       "    <tr>\n",
       "      <th>1</th>\n",
       "      <td>0.064018</td>\n",
       "      <td>0.088197</td>\n",
       "      <td>0.281065</td>\n",
       "      <td>0.333333</td>\n",
       "      <td>0.059770</td>\n",
       "    </tr>\n",
       "    <tr>\n",
       "      <th>2</th>\n",
       "      <td>0.062914</td>\n",
       "      <td>0.088197</td>\n",
       "      <td>0.275148</td>\n",
       "      <td>0.333333</td>\n",
       "      <td>0.059770</td>\n",
       "    </tr>\n",
       "    <tr>\n",
       "      <th>3</th>\n",
       "      <td>0.061810</td>\n",
       "      <td>0.086900</td>\n",
       "      <td>0.263314</td>\n",
       "      <td>0.333333</td>\n",
       "      <td>0.057471</td>\n",
       "    </tr>\n",
       "    <tr>\n",
       "      <th>4</th>\n",
       "      <td>0.059603</td>\n",
       "      <td>0.086900</td>\n",
       "      <td>0.254438</td>\n",
       "      <td>0.333333</td>\n",
       "      <td>0.057471</td>\n",
       "    </tr>\n",
       "  </tbody>\n",
       "</table>\n",
       "</div>"
      ],
      "text/plain": [
       "   Right Vastus lateralis~5  Right Biceps femoris caput longus~5  \\\n",
       "0                  0.065121                             0.088197   \n",
       "1                  0.064018                             0.088197   \n",
       "2                  0.062914                             0.088197   \n",
       "3                  0.061810                             0.086900   \n",
       "4                  0.059603                             0.086900   \n",
       "\n",
       "   Right Gastrocnemius lateralis~5  Right Gluteus maximus~5  \\\n",
       "0                         0.289941                 0.328767   \n",
       "1                         0.281065                 0.333333   \n",
       "2                         0.275148                 0.333333   \n",
       "3                         0.263314                 0.333333   \n",
       "4                         0.254438                 0.333333   \n",
       "\n",
       "   Right Rectus femoris~5  \n",
       "0                0.062069  \n",
       "1                0.059770  \n",
       "2                0.059770  \n",
       "3                0.057471  \n",
       "4                0.057471  "
      ]
     },
     "execution_count": 2,
     "metadata": {},
     "output_type": "execute_result"
    }
   ],
   "source": [
    "col_post.head()"
   ]
  },
  {
   "cell_type": "code",
   "execution_count": 3,
   "id": "b6d63393-a70b-4bbf-a6a5-53c1af488bba",
   "metadata": {},
   "outputs": [],
   "source": [
    "vasto=col_post.iloc[:,0].to_numpy()\n",
    "femor=col_post.iloc[:,1].to_numpy()\n",
    "polp=col_post.iloc[:,2].to_numpy()\n",
    "glute=col_post.iloc[:,3].to_numpy()\n",
    "quad=col_post.iloc[:,4].to_numpy()"
   ]
  },
  {
   "cell_type": "code",
   "execution_count": 4,
   "id": "bb3b800f-09fd-494d-9376-66126301cd59",
   "metadata": {},
   "outputs": [],
   "source": [
    "X=[vasto,femor,polp,glute,quad]"
   ]
  },
  {
   "cell_type": "code",
   "execution_count": 5,
   "id": "f179d987-7ca0-47a2-9a8d-7d2f685150e9",
   "metadata": {
    "tags": []
   },
   "outputs": [
    {
     "name": "stderr",
     "output_type": "stream",
     "text": [
      "/Users/alessandro/opt/anaconda3/lib/python3.9/site-packages/sklearn/decomposition/_nmf.py:1637: ConvergenceWarning: Maximum number of iterations 200 reached. Increase it to improve convergence.\n",
      "  warnings.warn(\n"
     ]
    }
   ],
   "source": [
    "model = NMF(n_components=5, init='random', random_state=0)\n",
    "W = model.fit_transform(X)\n",
    "H = model.components_"
   ]
  },
  {
   "cell_type": "code",
   "execution_count": 6,
   "id": "cddf8196-8188-45dd-9b36-96b0596a0f42",
   "metadata": {
    "tags": []
   },
   "outputs": [
    {
     "data": {
      "text/plain": [
       "array([[1.47523320e-02, 4.02042366e-01, 1.05894044e-01, 1.09392960e+00,\n",
       "        0.00000000e+00],\n",
       "       [0.00000000e+00, 5.69483541e-01, 3.15792964e-02, 9.45678164e-04,\n",
       "        5.27964455e-02],\n",
       "       [0.00000000e+00, 0.00000000e+00, 0.00000000e+00, 2.14959245e-01,\n",
       "        7.01061650e-01],\n",
       "       [0.00000000e+00, 0.00000000e+00, 9.15764934e-01, 0.00000000e+00,\n",
       "        2.85464038e-01],\n",
       "       [9.37892660e-01, 3.66786416e-01, 0.00000000e+00, 3.54023668e-01,\n",
       "        1.53018118e-02]])"
      ]
     },
     "execution_count": 6,
     "metadata": {},
     "output_type": "execute_result"
    }
   ],
   "source": [
    "W"
   ]
  },
  {
   "cell_type": "code",
   "execution_count": 7,
   "id": "3e8498f0-1ac8-4c5b-89ba-c83e0b7cde0f",
   "metadata": {},
   "outputs": [],
   "source": [
    "H.shape\n",
    "H=[*zip(*H)]"
   ]
  },
  {
   "cell_type": "code",
   "execution_count": 8,
   "id": "f276ccea-a840-49eb-b0ce-9499ef4a3f7b",
   "metadata": {},
   "outputs": [],
   "source": [
    "weights=pd.DataFrame(W)\n",
    "comps=pd.DataFrame(H)"
   ]
  },
  {
   "cell_type": "code",
   "execution_count": 9,
   "id": "a11c6df7-ebb8-45e1-832c-a598a05b820d",
   "metadata": {},
   "outputs": [
    {
     "data": {
      "text/html": [
       "<div>\n",
       "<style scoped>\n",
       "    .dataframe tbody tr th:only-of-type {\n",
       "        vertical-align: middle;\n",
       "    }\n",
       "\n",
       "    .dataframe tbody tr th {\n",
       "        vertical-align: top;\n",
       "    }\n",
       "\n",
       "    .dataframe thead th {\n",
       "        text-align: right;\n",
       "    }\n",
       "</style>\n",
       "<table border=\"1\" class=\"dataframe\">\n",
       "  <thead>\n",
       "    <tr style=\"text-align: right;\">\n",
       "      <th></th>\n",
       "      <th>0</th>\n",
       "      <th>1</th>\n",
       "      <th>2</th>\n",
       "      <th>3</th>\n",
       "      <th>4</th>\n",
       "    </tr>\n",
       "  </thead>\n",
       "  <tbody>\n",
       "    <tr>\n",
       "      <th>0</th>\n",
       "      <td>0.014752</td>\n",
       "      <td>0.402042</td>\n",
       "      <td>0.105894</td>\n",
       "      <td>1.093930</td>\n",
       "      <td>0.000000</td>\n",
       "    </tr>\n",
       "    <tr>\n",
       "      <th>1</th>\n",
       "      <td>0.000000</td>\n",
       "      <td>0.569484</td>\n",
       "      <td>0.031579</td>\n",
       "      <td>0.000946</td>\n",
       "      <td>0.052796</td>\n",
       "    </tr>\n",
       "    <tr>\n",
       "      <th>2</th>\n",
       "      <td>0.000000</td>\n",
       "      <td>0.000000</td>\n",
       "      <td>0.000000</td>\n",
       "      <td>0.214959</td>\n",
       "      <td>0.701062</td>\n",
       "    </tr>\n",
       "    <tr>\n",
       "      <th>3</th>\n",
       "      <td>0.000000</td>\n",
       "      <td>0.000000</td>\n",
       "      <td>0.915765</td>\n",
       "      <td>0.000000</td>\n",
       "      <td>0.285464</td>\n",
       "    </tr>\n",
       "    <tr>\n",
       "      <th>4</th>\n",
       "      <td>0.937893</td>\n",
       "      <td>0.366786</td>\n",
       "      <td>0.000000</td>\n",
       "      <td>0.354024</td>\n",
       "      <td>0.015302</td>\n",
       "    </tr>\n",
       "  </tbody>\n",
       "</table>\n",
       "</div>"
      ],
      "text/plain": [
       "          0         1         2         3         4\n",
       "0  0.014752  0.402042  0.105894  1.093930  0.000000\n",
       "1  0.000000  0.569484  0.031579  0.000946  0.052796\n",
       "2  0.000000  0.000000  0.000000  0.214959  0.701062\n",
       "3  0.000000  0.000000  0.915765  0.000000  0.285464\n",
       "4  0.937893  0.366786  0.000000  0.354024  0.015302"
      ]
     },
     "execution_count": 9,
     "metadata": {},
     "output_type": "execute_result"
    }
   ],
   "source": [
    "weights.head()"
   ]
  },
  {
   "cell_type": "code",
   "execution_count": 10,
   "id": "70d6825e-e9ff-4aae-9280-7c35c30506a9",
   "metadata": {},
   "outputs": [
    {
     "data": {
      "text/html": [
       "<div>\n",
       "<style scoped>\n",
       "    .dataframe tbody tr th:only-of-type {\n",
       "        vertical-align: middle;\n",
       "    }\n",
       "\n",
       "    .dataframe tbody tr th {\n",
       "        vertical-align: top;\n",
       "    }\n",
       "\n",
       "    .dataframe thead th {\n",
       "        text-align: right;\n",
       "    }\n",
       "</style>\n",
       "<table border=\"1\" class=\"dataframe\">\n",
       "  <thead>\n",
       "    <tr style=\"text-align: right;\">\n",
       "      <th></th>\n",
       "      <th>0</th>\n",
       "      <th>1</th>\n",
       "      <th>2</th>\n",
       "      <th>3</th>\n",
       "      <th>4</th>\n",
       "    </tr>\n",
       "  </thead>\n",
       "  <tbody>\n",
       "    <tr>\n",
       "      <th>0</th>\n",
       "      <td>0.019355</td>\n",
       "      <td>0.102697</td>\n",
       "      <td>0.229910</td>\n",
       "      <td>0.000000</td>\n",
       "      <td>0.413709</td>\n",
       "    </tr>\n",
       "    <tr>\n",
       "      <th>1</th>\n",
       "      <td>0.017550</td>\n",
       "      <td>0.101506</td>\n",
       "      <td>0.238631</td>\n",
       "      <td>0.000000</td>\n",
       "      <td>0.401244</td>\n",
       "    </tr>\n",
       "    <tr>\n",
       "      <th>2</th>\n",
       "      <td>0.017942</td>\n",
       "      <td>0.100805</td>\n",
       "      <td>0.241110</td>\n",
       "      <td>0.000000</td>\n",
       "      <td>0.392943</td>\n",
       "    </tr>\n",
       "    <tr>\n",
       "      <th>3</th>\n",
       "      <td>0.016537</td>\n",
       "      <td>0.098794</td>\n",
       "      <td>0.246260</td>\n",
       "      <td>0.000000</td>\n",
       "      <td>0.376167</td>\n",
       "    </tr>\n",
       "    <tr>\n",
       "      <th>4</th>\n",
       "      <td>0.017296</td>\n",
       "      <td>0.097291</td>\n",
       "      <td>0.249927</td>\n",
       "      <td>0.000000</td>\n",
       "      <td>0.363763</td>\n",
       "    </tr>\n",
       "    <tr>\n",
       "      <th>...</th>\n",
       "      <td>...</td>\n",
       "      <td>...</td>\n",
       "      <td>...</td>\n",
       "      <td>...</td>\n",
       "      <td>...</td>\n",
       "    </tr>\n",
       "    <tr>\n",
       "      <th>95</th>\n",
       "      <td>0.126938</td>\n",
       "      <td>0.004213</td>\n",
       "      <td>0.298846</td>\n",
       "      <td>0.036392</td>\n",
       "      <td>0.144982</td>\n",
       "    </tr>\n",
       "    <tr>\n",
       "      <th>96</th>\n",
       "      <td>0.129528</td>\n",
       "      <td>0.004473</td>\n",
       "      <td>0.293797</td>\n",
       "      <td>0.035741</td>\n",
       "      <td>0.145182</td>\n",
       "    </tr>\n",
       "    <tr>\n",
       "      <th>97</th>\n",
       "      <td>0.129039</td>\n",
       "      <td>0.006684</td>\n",
       "      <td>0.287381</td>\n",
       "      <td>0.034547</td>\n",
       "      <td>0.149768</td>\n",
       "    </tr>\n",
       "    <tr>\n",
       "      <th>98</th>\n",
       "      <td>0.131595</td>\n",
       "      <td>0.006628</td>\n",
       "      <td>0.281039</td>\n",
       "      <td>0.034138</td>\n",
       "      <td>0.154115</td>\n",
       "    </tr>\n",
       "    <tr>\n",
       "      <th>99</th>\n",
       "      <td>0.133604</td>\n",
       "      <td>0.009154</td>\n",
       "      <td>0.275912</td>\n",
       "      <td>0.032670</td>\n",
       "      <td>0.154565</td>\n",
       "    </tr>\n",
       "  </tbody>\n",
       "</table>\n",
       "<p>100 rows × 5 columns</p>\n",
       "</div>"
      ],
      "text/plain": [
       "           0         1         2         3         4\n",
       "0   0.019355  0.102697  0.229910  0.000000  0.413709\n",
       "1   0.017550  0.101506  0.238631  0.000000  0.401244\n",
       "2   0.017942  0.100805  0.241110  0.000000  0.392943\n",
       "3   0.016537  0.098794  0.246260  0.000000  0.376167\n",
       "4   0.017296  0.097291  0.249927  0.000000  0.363763\n",
       "..       ...       ...       ...       ...       ...\n",
       "95  0.126938  0.004213  0.298846  0.036392  0.144982\n",
       "96  0.129528  0.004473  0.293797  0.035741  0.145182\n",
       "97  0.129039  0.006684  0.287381  0.034547  0.149768\n",
       "98  0.131595  0.006628  0.281039  0.034138  0.154115\n",
       "99  0.133604  0.009154  0.275912  0.032670  0.154565\n",
       "\n",
       "[100 rows x 5 columns]"
      ]
     },
     "execution_count": 10,
     "metadata": {},
     "output_type": "execute_result"
    }
   ],
   "source": [
    "comps.head(100)"
   ]
  },
  {
   "cell_type": "code",
   "execution_count": 11,
   "id": "7f4709eb-ffec-47fd-8aa9-07aaf768f240",
   "metadata": {},
   "outputs": [],
   "source": [
    "weights.to_excel(excel_writer = \"/Users/alessandro/Desktop/weights-bec-pre.xlsx\")\n",
    "comps.to_excel(excel_writer = \"/Users/alessandro/Desktop/comps-bec-pre.xlsx\")"
   ]
  }
 ],
 "metadata": {
  "kernelspec": {
   "display_name": "Python 3 (ipykernel)",
   "language": "python",
   "name": "python3"
  },
  "language_info": {
   "codemirror_mode": {
    "name": "ipython",
    "version": 3
   },
   "file_extension": ".py",
   "mimetype": "text/x-python",
   "name": "python",
   "nbconvert_exporter": "python",
   "pygments_lexer": "ipython3",
   "version": "3.9.12"
  }
 },
 "nbformat": 4,
 "nbformat_minor": 5
}
