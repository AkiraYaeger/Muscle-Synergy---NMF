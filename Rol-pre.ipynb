{
 "cells": [
  {
   "cell_type": "code",
   "execution_count": 1,
   "id": "aeb16204-85c5-4e63-a9e0-38fe80db7b81",
   "metadata": {},
   "outputs": [],
   "source": [
    "import numpy as np\n",
    "import pandas as pd\n",
    "from sklearn.decomposition import NMF\n",
    "\n",
    "col_post=pd.DataFrame(pd.read_csv('Roletto pre.csv'))"
   ]
  },
  {
   "cell_type": "code",
   "execution_count": 2,
   "id": "c0078caf-8550-406b-9f3c-efc536a3add4",
   "metadata": {},
   "outputs": [
    {
     "data": {
      "text/html": [
       "<div>\n",
       "<style scoped>\n",
       "    .dataframe tbody tr th:only-of-type {\n",
       "        vertical-align: middle;\n",
       "    }\n",
       "\n",
       "    .dataframe tbody tr th {\n",
       "        vertical-align: top;\n",
       "    }\n",
       "\n",
       "    .dataframe thead th {\n",
       "        text-align: right;\n",
       "    }\n",
       "</style>\n",
       "<table border=\"1\" class=\"dataframe\">\n",
       "  <thead>\n",
       "    <tr style=\"text-align: right;\">\n",
       "      <th></th>\n",
       "      <th>Right Vastus lateralis~5</th>\n",
       "      <th>Right Biceps femoris caput longus~5</th>\n",
       "      <th>Right Gastrocnemius lateralis~5</th>\n",
       "      <th>Right Gluteus maximus~5</th>\n",
       "      <th>Right Rectus femoris~5</th>\n",
       "    </tr>\n",
       "  </thead>\n",
       "  <tbody>\n",
       "    <tr>\n",
       "      <th>0</th>\n",
       "      <td>0.025126</td>\n",
       "      <td>0.208333</td>\n",
       "      <td>0.028846</td>\n",
       "      <td>0.060302</td>\n",
       "      <td>0.027027</td>\n",
       "    </tr>\n",
       "    <tr>\n",
       "      <th>1</th>\n",
       "      <td>0.025126</td>\n",
       "      <td>0.196429</td>\n",
       "      <td>0.028846</td>\n",
       "      <td>0.060302</td>\n",
       "      <td>0.027027</td>\n",
       "    </tr>\n",
       "    <tr>\n",
       "      <th>2</th>\n",
       "      <td>0.025126</td>\n",
       "      <td>0.184524</td>\n",
       "      <td>0.028846</td>\n",
       "      <td>0.060302</td>\n",
       "      <td>0.027027</td>\n",
       "    </tr>\n",
       "    <tr>\n",
       "      <th>3</th>\n",
       "      <td>0.025126</td>\n",
       "      <td>0.172619</td>\n",
       "      <td>0.028846</td>\n",
       "      <td>0.060302</td>\n",
       "      <td>0.027027</td>\n",
       "    </tr>\n",
       "    <tr>\n",
       "      <th>4</th>\n",
       "      <td>0.027638</td>\n",
       "      <td>0.166667</td>\n",
       "      <td>0.028846</td>\n",
       "      <td>0.065327</td>\n",
       "      <td>0.027027</td>\n",
       "    </tr>\n",
       "  </tbody>\n",
       "</table>\n",
       "</div>"
      ],
      "text/plain": [
       "   Right Vastus lateralis~5  Right Biceps femoris caput longus~5  \\\n",
       "0                  0.025126                             0.208333   \n",
       "1                  0.025126                             0.196429   \n",
       "2                  0.025126                             0.184524   \n",
       "3                  0.025126                             0.172619   \n",
       "4                  0.027638                             0.166667   \n",
       "\n",
       "   Right Gastrocnemius lateralis~5  Right Gluteus maximus~5  \\\n",
       "0                         0.028846                 0.060302   \n",
       "1                         0.028846                 0.060302   \n",
       "2                         0.028846                 0.060302   \n",
       "3                         0.028846                 0.060302   \n",
       "4                         0.028846                 0.065327   \n",
       "\n",
       "   Right Rectus femoris~5  \n",
       "0                0.027027  \n",
       "1                0.027027  \n",
       "2                0.027027  \n",
       "3                0.027027  \n",
       "4                0.027027  "
      ]
     },
     "execution_count": 2,
     "metadata": {},
     "output_type": "execute_result"
    }
   ],
   "source": [
    "col_post.head()"
   ]
  },
  {
   "cell_type": "code",
   "execution_count": 3,
   "id": "b6d63393-a70b-4bbf-a6a5-53c1af488bba",
   "metadata": {},
   "outputs": [],
   "source": [
    "vasto=col_post.iloc[:,0].to_numpy()\n",
    "femor=col_post.iloc[:,1].to_numpy()\n",
    "polp=col_post.iloc[:,2].to_numpy()\n",
    "glute=col_post.iloc[:,3].to_numpy()\n",
    "quad=col_post.iloc[:,4].to_numpy()"
   ]
  },
  {
   "cell_type": "code",
   "execution_count": 4,
   "id": "bb3b800f-09fd-494d-9376-66126301cd59",
   "metadata": {},
   "outputs": [],
   "source": [
    "X=[vasto,femor,polp,glute,quad]"
   ]
  },
  {
   "cell_type": "code",
   "execution_count": 5,
   "id": "f179d987-7ca0-47a2-9a8d-7d2f685150e9",
   "metadata": {
    "tags": []
   },
   "outputs": [
    {
     "name": "stderr",
     "output_type": "stream",
     "text": [
      "/Users/alessandro/opt/anaconda3/lib/python3.9/site-packages/sklearn/decomposition/_nmf.py:1637: ConvergenceWarning: Maximum number of iterations 200 reached. Increase it to improve convergence.\n",
      "  warnings.warn(\n"
     ]
    }
   ],
   "source": [
    "model = NMF(n_components=5, init='random', random_state=0)\n",
    "W = model.fit_transform(X)\n",
    "H = model.components_"
   ]
  },
  {
   "cell_type": "code",
   "execution_count": 6,
   "id": "cddf8196-8188-45dd-9b36-96b0596a0f42",
   "metadata": {
    "tags": []
   },
   "outputs": [
    {
     "data": {
      "text/plain": [
       "array([[0.3941468 , 0.77893543, 0.        , 0.22770811, 0.04301388],\n",
       "       [0.17344142, 0.10802496, 0.25038974, 0.00699191, 0.9297289 ],\n",
       "       [0.        , 0.        , 0.19498935, 0.62699992, 0.        ],\n",
       "       [0.04124179, 0.00849306, 0.86297657, 0.        , 0.02892052],\n",
       "       [0.5377908 , 0.21273005, 0.        , 0.10039587, 0.05814191]])"
      ]
     },
     "execution_count": 6,
     "metadata": {},
     "output_type": "execute_result"
    }
   ],
   "source": [
    "W"
   ]
  },
  {
   "cell_type": "code",
   "execution_count": 7,
   "id": "3e8498f0-1ac8-4c5b-89ba-c83e0b7cde0f",
   "metadata": {},
   "outputs": [],
   "source": [
    "H.shape\n",
    "H=[*zip(*H)]"
   ]
  },
  {
   "cell_type": "code",
   "execution_count": 8,
   "id": "f276ccea-a840-49eb-b0ce-9499ef4a3f7b",
   "metadata": {},
   "outputs": [],
   "source": [
    "weights=pd.DataFrame(W)\n",
    "comps=pd.DataFrame(H)"
   ]
  },
  {
   "cell_type": "code",
   "execution_count": 9,
   "id": "a11c6df7-ebb8-45e1-832c-a598a05b820d",
   "metadata": {},
   "outputs": [
    {
     "data": {
      "text/html": [
       "<div>\n",
       "<style scoped>\n",
       "    .dataframe tbody tr th:only-of-type {\n",
       "        vertical-align: middle;\n",
       "    }\n",
       "\n",
       "    .dataframe tbody tr th {\n",
       "        vertical-align: top;\n",
       "    }\n",
       "\n",
       "    .dataframe thead th {\n",
       "        text-align: right;\n",
       "    }\n",
       "</style>\n",
       "<table border=\"1\" class=\"dataframe\">\n",
       "  <thead>\n",
       "    <tr style=\"text-align: right;\">\n",
       "      <th></th>\n",
       "      <th>0</th>\n",
       "      <th>1</th>\n",
       "      <th>2</th>\n",
       "      <th>3</th>\n",
       "      <th>4</th>\n",
       "    </tr>\n",
       "  </thead>\n",
       "  <tbody>\n",
       "    <tr>\n",
       "      <th>0</th>\n",
       "      <td>0.394147</td>\n",
       "      <td>0.778935</td>\n",
       "      <td>0.000000</td>\n",
       "      <td>0.227708</td>\n",
       "      <td>0.043014</td>\n",
       "    </tr>\n",
       "    <tr>\n",
       "      <th>1</th>\n",
       "      <td>0.173441</td>\n",
       "      <td>0.108025</td>\n",
       "      <td>0.250390</td>\n",
       "      <td>0.006992</td>\n",
       "      <td>0.929729</td>\n",
       "    </tr>\n",
       "    <tr>\n",
       "      <th>2</th>\n",
       "      <td>0.000000</td>\n",
       "      <td>0.000000</td>\n",
       "      <td>0.194989</td>\n",
       "      <td>0.627000</td>\n",
       "      <td>0.000000</td>\n",
       "    </tr>\n",
       "    <tr>\n",
       "      <th>3</th>\n",
       "      <td>0.041242</td>\n",
       "      <td>0.008493</td>\n",
       "      <td>0.862977</td>\n",
       "      <td>0.000000</td>\n",
       "      <td>0.028921</td>\n",
       "    </tr>\n",
       "    <tr>\n",
       "      <th>4</th>\n",
       "      <td>0.537791</td>\n",
       "      <td>0.212730</td>\n",
       "      <td>0.000000</td>\n",
       "      <td>0.100396</td>\n",
       "      <td>0.058142</td>\n",
       "    </tr>\n",
       "  </tbody>\n",
       "</table>\n",
       "</div>"
      ],
      "text/plain": [
       "          0         1         2         3         4\n",
       "0  0.394147  0.778935  0.000000  0.227708  0.043014\n",
       "1  0.173441  0.108025  0.250390  0.006992  0.929729\n",
       "2  0.000000  0.000000  0.194989  0.627000  0.000000\n",
       "3  0.041242  0.008493  0.862977  0.000000  0.028921\n",
       "4  0.537791  0.212730  0.000000  0.100396  0.058142"
      ]
     },
     "execution_count": 9,
     "metadata": {},
     "output_type": "execute_result"
    }
   ],
   "source": [
    "weights.head()"
   ]
  },
  {
   "cell_type": "code",
   "execution_count": 10,
   "id": "70d6825e-e9ff-4aae-9280-7c35c30506a9",
   "metadata": {},
   "outputs": [
    {
     "data": {
      "text/html": [
       "<div>\n",
       "<style scoped>\n",
       "    .dataframe tbody tr th:only-of-type {\n",
       "        vertical-align: middle;\n",
       "    }\n",
       "\n",
       "    .dataframe tbody tr th {\n",
       "        vertical-align: top;\n",
       "    }\n",
       "\n",
       "    .dataframe thead th {\n",
       "        text-align: right;\n",
       "    }\n",
       "</style>\n",
       "<table border=\"1\" class=\"dataframe\">\n",
       "  <thead>\n",
       "    <tr style=\"text-align: right;\">\n",
       "      <th></th>\n",
       "      <th>0</th>\n",
       "      <th>1</th>\n",
       "      <th>2</th>\n",
       "      <th>3</th>\n",
       "      <th>4</th>\n",
       "    </tr>\n",
       "  </thead>\n",
       "  <tbody>\n",
       "    <tr>\n",
       "      <th>0</th>\n",
       "      <td>0.022630</td>\n",
       "      <td>0.001791</td>\n",
       "      <td>0.061976</td>\n",
       "      <td>0.026734</td>\n",
       "      <td>0.202758</td>\n",
       "    </tr>\n",
       "    <tr>\n",
       "      <th>1</th>\n",
       "      <td>0.024063</td>\n",
       "      <td>0.001828</td>\n",
       "      <td>0.062349</td>\n",
       "      <td>0.026618</td>\n",
       "      <td>0.189583</td>\n",
       "    </tr>\n",
       "    <tr>\n",
       "      <th>2</th>\n",
       "      <td>0.025495</td>\n",
       "      <td>0.001865</td>\n",
       "      <td>0.062722</td>\n",
       "      <td>0.026502</td>\n",
       "      <td>0.176407</td>\n",
       "    </tr>\n",
       "    <tr>\n",
       "      <th>3</th>\n",
       "      <td>0.026927</td>\n",
       "      <td>0.001901</td>\n",
       "      <td>0.063095</td>\n",
       "      <td>0.026385</td>\n",
       "      <td>0.163231</td>\n",
       "    </tr>\n",
       "    <tr>\n",
       "      <th>4</th>\n",
       "      <td>0.026409</td>\n",
       "      <td>0.006411</td>\n",
       "      <td>0.069182</td>\n",
       "      <td>0.024492</td>\n",
       "      <td>0.154777</td>\n",
       "    </tr>\n",
       "    <tr>\n",
       "      <th>...</th>\n",
       "      <td>...</td>\n",
       "      <td>...</td>\n",
       "      <td>...</td>\n",
       "      <td>...</td>\n",
       "      <td>...</td>\n",
       "    </tr>\n",
       "    <tr>\n",
       "      <th>95</th>\n",
       "      <td>0.022525</td>\n",
       "      <td>0.016565</td>\n",
       "      <td>0.103057</td>\n",
       "      <td>0.320674</td>\n",
       "      <td>0.014924</td>\n",
       "    </tr>\n",
       "    <tr>\n",
       "      <th>96</th>\n",
       "      <td>0.019715</td>\n",
       "      <td>0.025093</td>\n",
       "      <td>0.109000</td>\n",
       "      <td>0.318826</td>\n",
       "      <td>0.012871</td>\n",
       "    </tr>\n",
       "    <tr>\n",
       "      <th>97</th>\n",
       "      <td>0.016905</td>\n",
       "      <td>0.033622</td>\n",
       "      <td>0.114942</td>\n",
       "      <td>0.316978</td>\n",
       "      <td>0.010818</td>\n",
       "    </tr>\n",
       "    <tr>\n",
       "      <th>98</th>\n",
       "      <td>0.011461</td>\n",
       "      <td>0.045715</td>\n",
       "      <td>0.114881</td>\n",
       "      <td>0.316997</td>\n",
       "      <td>0.016847</td>\n",
       "    </tr>\n",
       "    <tr>\n",
       "      <th>99</th>\n",
       "      <td>0.003703</td>\n",
       "      <td>0.061237</td>\n",
       "      <td>0.120985</td>\n",
       "      <td>0.299763</td>\n",
       "      <td>0.014976</td>\n",
       "    </tr>\n",
       "  </tbody>\n",
       "</table>\n",
       "<p>100 rows × 5 columns</p>\n",
       "</div>"
      ],
      "text/plain": [
       "           0         1         2         3         4\n",
       "0   0.022630  0.001791  0.061976  0.026734  0.202758\n",
       "1   0.024063  0.001828  0.062349  0.026618  0.189583\n",
       "2   0.025495  0.001865  0.062722  0.026502  0.176407\n",
       "3   0.026927  0.001901  0.063095  0.026385  0.163231\n",
       "4   0.026409  0.006411  0.069182  0.024492  0.154777\n",
       "..       ...       ...       ...       ...       ...\n",
       "95  0.022525  0.016565  0.103057  0.320674  0.014924\n",
       "96  0.019715  0.025093  0.109000  0.318826  0.012871\n",
       "97  0.016905  0.033622  0.114942  0.316978  0.010818\n",
       "98  0.011461  0.045715  0.114881  0.316997  0.016847\n",
       "99  0.003703  0.061237  0.120985  0.299763  0.014976\n",
       "\n",
       "[100 rows x 5 columns]"
      ]
     },
     "execution_count": 10,
     "metadata": {},
     "output_type": "execute_result"
    }
   ],
   "source": [
    "comps.head(100)"
   ]
  },
  {
   "cell_type": "code",
   "execution_count": 11,
   "id": "7f4709eb-ffec-47fd-8aa9-07aaf768f240",
   "metadata": {},
   "outputs": [],
   "source": [
    "weights.to_excel(excel_writer = \"/Users/alessandro/Desktop/weights-rol-pre.xlsx\")\n",
    "comps.to_excel(excel_writer = \"/Users/alessandro/Desktop/comps-rol-pre.xlsx\")"
   ]
  }
 ],
 "metadata": {
  "kernelspec": {
   "display_name": "Python 3 (ipykernel)",
   "language": "python",
   "name": "python3"
  },
  "language_info": {
   "codemirror_mode": {
    "name": "ipython",
    "version": 3
   },
   "file_extension": ".py",
   "mimetype": "text/x-python",
   "name": "python",
   "nbconvert_exporter": "python",
   "pygments_lexer": "ipython3",
   "version": "3.9.12"
  }
 },
 "nbformat": 4,
 "nbformat_minor": 5
}
