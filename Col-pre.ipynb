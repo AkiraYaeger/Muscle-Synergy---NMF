{
 "cells": [
  {
   "cell_type": "code",
   "execution_count": 1,
   "id": "aeb16204-85c5-4e63-a9e0-38fe80db7b81",
   "metadata": {},
   "outputs": [],
   "source": [
    "import numpy as np\n",
    "import pandas as pd\n",
    "from sklearn.decomposition import NMF\n",
    "\n",
    "col_post=pd.DataFrame(pd.read_csv('Colombo pre.csv'))"
   ]
  },
  {
   "cell_type": "code",
   "execution_count": 2,
   "id": "c0078caf-8550-406b-9f3c-efc536a3add4",
   "metadata": {},
   "outputs": [
    {
     "data": {
      "text/html": [
       "<div>\n",
       "<style scoped>\n",
       "    .dataframe tbody tr th:only-of-type {\n",
       "        vertical-align: middle;\n",
       "    }\n",
       "\n",
       "    .dataframe tbody tr th {\n",
       "        vertical-align: top;\n",
       "    }\n",
       "\n",
       "    .dataframe thead th {\n",
       "        text-align: right;\n",
       "    }\n",
       "</style>\n",
       "<table border=\"1\" class=\"dataframe\">\n",
       "  <thead>\n",
       "    <tr style=\"text-align: right;\">\n",
       "      <th></th>\n",
       "      <th>Right Vastus lateralis~5</th>\n",
       "      <th>Right Biceps femoris caput longus~5</th>\n",
       "      <th>Right Gastrocnemius lateralis~5</th>\n",
       "      <th>Right Gluteus maximus~5</th>\n",
       "      <th>Right Rectus femoris~5</th>\n",
       "    </tr>\n",
       "  </thead>\n",
       "  <tbody>\n",
       "    <tr>\n",
       "      <th>0</th>\n",
       "      <td>0.416318</td>\n",
       "      <td>0.083799</td>\n",
       "      <td>0.477273</td>\n",
       "      <td>0.102857</td>\n",
       "      <td>0.378738</td>\n",
       "    </tr>\n",
       "    <tr>\n",
       "      <th>1</th>\n",
       "      <td>0.412134</td>\n",
       "      <td>0.083799</td>\n",
       "      <td>0.477273</td>\n",
       "      <td>0.102857</td>\n",
       "      <td>0.375415</td>\n",
       "    </tr>\n",
       "    <tr>\n",
       "      <th>2</th>\n",
       "      <td>0.410042</td>\n",
       "      <td>0.083799</td>\n",
       "      <td>0.472727</td>\n",
       "      <td>0.102857</td>\n",
       "      <td>0.372093</td>\n",
       "    </tr>\n",
       "    <tr>\n",
       "      <th>3</th>\n",
       "      <td>0.410042</td>\n",
       "      <td>0.083799</td>\n",
       "      <td>0.468182</td>\n",
       "      <td>0.102857</td>\n",
       "      <td>0.367110</td>\n",
       "    </tr>\n",
       "    <tr>\n",
       "      <th>4</th>\n",
       "      <td>0.410042</td>\n",
       "      <td>0.083799</td>\n",
       "      <td>0.454545</td>\n",
       "      <td>0.108571</td>\n",
       "      <td>0.360465</td>\n",
       "    </tr>\n",
       "  </tbody>\n",
       "</table>\n",
       "</div>"
      ],
      "text/plain": [
       "   Right Vastus lateralis~5  Right Biceps femoris caput longus~5  \\\n",
       "0                  0.416318                             0.083799   \n",
       "1                  0.412134                             0.083799   \n",
       "2                  0.410042                             0.083799   \n",
       "3                  0.410042                             0.083799   \n",
       "4                  0.410042                             0.083799   \n",
       "\n",
       "   Right Gastrocnemius lateralis~5  Right Gluteus maximus~5  \\\n",
       "0                         0.477273                 0.102857   \n",
       "1                         0.477273                 0.102857   \n",
       "2                         0.472727                 0.102857   \n",
       "3                         0.468182                 0.102857   \n",
       "4                         0.454545                 0.108571   \n",
       "\n",
       "   Right Rectus femoris~5  \n",
       "0                0.378738  \n",
       "1                0.375415  \n",
       "2                0.372093  \n",
       "3                0.367110  \n",
       "4                0.360465  "
      ]
     },
     "execution_count": 2,
     "metadata": {},
     "output_type": "execute_result"
    }
   ],
   "source": [
    "col_post.head()"
   ]
  },
  {
   "cell_type": "code",
   "execution_count": 3,
   "id": "b6d63393-a70b-4bbf-a6a5-53c1af488bba",
   "metadata": {},
   "outputs": [],
   "source": [
    "vasto=col_post.iloc[:,0].to_numpy()\n",
    "femor=col_post.iloc[:,1].to_numpy()\n",
    "polp=col_post.iloc[:,2].to_numpy()\n",
    "glute=col_post.iloc[:,3].to_numpy()\n",
    "quad=col_post.iloc[:,4].to_numpy()"
   ]
  },
  {
   "cell_type": "code",
   "execution_count": 4,
   "id": "bb3b800f-09fd-494d-9376-66126301cd59",
   "metadata": {},
   "outputs": [],
   "source": [
    "X=[vasto,femor,polp,glute,quad]"
   ]
  },
  {
   "cell_type": "code",
   "execution_count": 5,
   "id": "f179d987-7ca0-47a2-9a8d-7d2f685150e9",
   "metadata": {
    "tags": []
   },
   "outputs": [
    {
     "name": "stderr",
     "output_type": "stream",
     "text": [
      "/Users/alessandro/opt/anaconda3/lib/python3.9/site-packages/sklearn/decomposition/_nmf.py:1637: ConvergenceWarning: Maximum number of iterations 200 reached. Increase it to improve convergence.\n",
      "  warnings.warn(\n"
     ]
    }
   ],
   "source": [
    "model = NMF(n_components=5, init='random', random_state=0)\n",
    "W = model.fit_transform(X)\n",
    "H = model.components_"
   ]
  },
  {
   "cell_type": "code",
   "execution_count": 6,
   "id": "cddf8196-8188-45dd-9b36-96b0596a0f42",
   "metadata": {
    "tags": []
   },
   "outputs": [
    {
     "data": {
      "text/plain": [
       "array([[0.08861856, 0.25828358, 0.04986552, 1.00957646, 0.        ],\n",
       "       [0.        , 0.52193916, 0.14912121, 0.        , 0.12418382],\n",
       "       [0.27052317, 0.04445638, 0.05193739, 0.41936762, 0.90844659],\n",
       "       [0.05389092, 0.        , 0.87755395, 0.04252128, 0.02508458],\n",
       "       [0.51271136, 0.02262584, 0.        , 0.4397556 , 0.        ]])"
      ]
     },
     "execution_count": 6,
     "metadata": {},
     "output_type": "execute_result"
    }
   ],
   "source": [
    "W"
   ]
  },
  {
   "cell_type": "code",
   "execution_count": 7,
   "id": "3e8498f0-1ac8-4c5b-89ba-c83e0b7cde0f",
   "metadata": {},
   "outputs": [],
   "source": [
    "H.shape\n",
    "H=[*zip(*H)]"
   ]
  },
  {
   "cell_type": "code",
   "execution_count": 8,
   "id": "f276ccea-a840-49eb-b0ce-9499ef4a3f7b",
   "metadata": {},
   "outputs": [],
   "source": [
    "weights=pd.DataFrame(W)\n",
    "comps=pd.DataFrame(H)"
   ]
  },
  {
   "cell_type": "code",
   "execution_count": 9,
   "id": "a11c6df7-ebb8-45e1-832c-a598a05b820d",
   "metadata": {},
   "outputs": [
    {
     "data": {
      "text/html": [
       "<div>\n",
       "<style scoped>\n",
       "    .dataframe tbody tr th:only-of-type {\n",
       "        vertical-align: middle;\n",
       "    }\n",
       "\n",
       "    .dataframe tbody tr th {\n",
       "        vertical-align: top;\n",
       "    }\n",
       "\n",
       "    .dataframe thead th {\n",
       "        text-align: right;\n",
       "    }\n",
       "</style>\n",
       "<table border=\"1\" class=\"dataframe\">\n",
       "  <thead>\n",
       "    <tr style=\"text-align: right;\">\n",
       "      <th></th>\n",
       "      <th>0</th>\n",
       "      <th>1</th>\n",
       "      <th>2</th>\n",
       "      <th>3</th>\n",
       "      <th>4</th>\n",
       "    </tr>\n",
       "  </thead>\n",
       "  <tbody>\n",
       "    <tr>\n",
       "      <th>0</th>\n",
       "      <td>0.088619</td>\n",
       "      <td>0.258284</td>\n",
       "      <td>0.049866</td>\n",
       "      <td>1.009576</td>\n",
       "      <td>0.000000</td>\n",
       "    </tr>\n",
       "    <tr>\n",
       "      <th>1</th>\n",
       "      <td>0.000000</td>\n",
       "      <td>0.521939</td>\n",
       "      <td>0.149121</td>\n",
       "      <td>0.000000</td>\n",
       "      <td>0.124184</td>\n",
       "    </tr>\n",
       "    <tr>\n",
       "      <th>2</th>\n",
       "      <td>0.270523</td>\n",
       "      <td>0.044456</td>\n",
       "      <td>0.051937</td>\n",
       "      <td>0.419368</td>\n",
       "      <td>0.908447</td>\n",
       "    </tr>\n",
       "    <tr>\n",
       "      <th>3</th>\n",
       "      <td>0.053891</td>\n",
       "      <td>0.000000</td>\n",
       "      <td>0.877554</td>\n",
       "      <td>0.042521</td>\n",
       "      <td>0.025085</td>\n",
       "    </tr>\n",
       "    <tr>\n",
       "      <th>4</th>\n",
       "      <td>0.512711</td>\n",
       "      <td>0.022626</td>\n",
       "      <td>0.000000</td>\n",
       "      <td>0.439756</td>\n",
       "      <td>0.000000</td>\n",
       "    </tr>\n",
       "  </tbody>\n",
       "</table>\n",
       "</div>"
      ],
      "text/plain": [
       "          0         1         2         3         4\n",
       "0  0.088619  0.258284  0.049866  1.009576  0.000000\n",
       "1  0.000000  0.521939  0.149121  0.000000  0.124184\n",
       "2  0.270523  0.044456  0.051937  0.419368  0.908447\n",
       "3  0.053891  0.000000  0.877554  0.042521  0.025085\n",
       "4  0.512711  0.022626  0.000000  0.439756  0.000000"
      ]
     },
     "execution_count": 9,
     "metadata": {},
     "output_type": "execute_result"
    }
   ],
   "source": [
    "weights.head()"
   ]
  },
  {
   "cell_type": "code",
   "execution_count": 10,
   "id": "70d6825e-e9ff-4aae-9280-7c35c30506a9",
   "metadata": {},
   "outputs": [
    {
     "data": {
      "text/html": [
       "<div>\n",
       "<style scoped>\n",
       "    .dataframe tbody tr th:only-of-type {\n",
       "        vertical-align: middle;\n",
       "    }\n",
       "\n",
       "    .dataframe tbody tr th {\n",
       "        vertical-align: top;\n",
       "    }\n",
       "\n",
       "    .dataframe thead th {\n",
       "        text-align: right;\n",
       "    }\n",
       "</style>\n",
       "<table border=\"1\" class=\"dataframe\">\n",
       "  <thead>\n",
       "    <tr style=\"text-align: right;\">\n",
       "      <th></th>\n",
       "      <th>0</th>\n",
       "      <th>1</th>\n",
       "      <th>2</th>\n",
       "      <th>3</th>\n",
       "      <th>4</th>\n",
       "    </tr>\n",
       "  </thead>\n",
       "  <tbody>\n",
       "    <tr>\n",
       "      <th>0</th>\n",
       "      <td>0.435868</td>\n",
       "      <td>0.087389</td>\n",
       "      <td>0.067078</td>\n",
       "      <td>0.348463</td>\n",
       "      <td>0.226610</td>\n",
       "    </tr>\n",
       "    <tr>\n",
       "      <th>1</th>\n",
       "      <td>0.432581</td>\n",
       "      <td>0.086661</td>\n",
       "      <td>0.067382</td>\n",
       "      <td>0.344778</td>\n",
       "      <td>0.229308</td>\n",
       "    </tr>\n",
       "    <tr>\n",
       "      <th>2</th>\n",
       "      <td>0.427617</td>\n",
       "      <td>0.087181</td>\n",
       "      <td>0.067852</td>\n",
       "      <td>0.342985</td>\n",
       "      <td>0.226558</td>\n",
       "    </tr>\n",
       "    <tr>\n",
       "      <th>3</th>\n",
       "      <td>0.417202</td>\n",
       "      <td>0.087542</td>\n",
       "      <td>0.068520</td>\n",
       "      <td>0.343775</td>\n",
       "      <td>0.224236</td>\n",
       "    </tr>\n",
       "    <tr>\n",
       "      <th>4</th>\n",
       "      <td>0.403654</td>\n",
       "      <td>0.088152</td>\n",
       "      <td>0.076167</td>\n",
       "      <td>0.344430</td>\n",
       "      <td>0.212490</td>\n",
       "    </tr>\n",
       "    <tr>\n",
       "      <th>...</th>\n",
       "      <td>...</td>\n",
       "      <td>...</td>\n",
       "      <td>...</td>\n",
       "      <td>...</td>\n",
       "      <td>...</td>\n",
       "    </tr>\n",
       "    <tr>\n",
       "      <th>95</th>\n",
       "      <td>0.101468</td>\n",
       "      <td>0.040532</td>\n",
       "      <td>0.009032</td>\n",
       "      <td>0.226896</td>\n",
       "      <td>0.447969</td>\n",
       "    </tr>\n",
       "    <tr>\n",
       "      <th>96</th>\n",
       "      <td>0.104754</td>\n",
       "      <td>0.041260</td>\n",
       "      <td>0.008729</td>\n",
       "      <td>0.230580</td>\n",
       "      <td>0.445271</td>\n",
       "    </tr>\n",
       "    <tr>\n",
       "      <th>97</th>\n",
       "      <td>0.105736</td>\n",
       "      <td>0.048202</td>\n",
       "      <td>0.008749</td>\n",
       "      <td>0.232861</td>\n",
       "      <td>0.438581</td>\n",
       "    </tr>\n",
       "    <tr>\n",
       "      <th>98</th>\n",
       "      <td>0.115756</td>\n",
       "      <td>0.057348</td>\n",
       "      <td>0.001881</td>\n",
       "      <td>0.232052</td>\n",
       "      <td>0.430912</td>\n",
       "    </tr>\n",
       "    <tr>\n",
       "      <th>99</th>\n",
       "      <td>0.127640</td>\n",
       "      <td>0.064610</td>\n",
       "      <td>0.001507</td>\n",
       "      <td>0.229168</td>\n",
       "      <td>0.423366</td>\n",
       "    </tr>\n",
       "  </tbody>\n",
       "</table>\n",
       "<p>100 rows × 5 columns</p>\n",
       "</div>"
      ],
      "text/plain": [
       "           0         1         2         3         4\n",
       "0   0.435868  0.087389  0.067078  0.348463  0.226610\n",
       "1   0.432581  0.086661  0.067382  0.344778  0.229308\n",
       "2   0.427617  0.087181  0.067852  0.342985  0.226558\n",
       "3   0.417202  0.087542  0.068520  0.343775  0.224236\n",
       "4   0.403654  0.088152  0.076167  0.344430  0.212490\n",
       "..       ...       ...       ...       ...       ...\n",
       "95  0.101468  0.040532  0.009032  0.226896  0.447969\n",
       "96  0.104754  0.041260  0.008729  0.230580  0.445271\n",
       "97  0.105736  0.048202  0.008749  0.232861  0.438581\n",
       "98  0.115756  0.057348  0.001881  0.232052  0.430912\n",
       "99  0.127640  0.064610  0.001507  0.229168  0.423366\n",
       "\n",
       "[100 rows x 5 columns]"
      ]
     },
     "execution_count": 10,
     "metadata": {},
     "output_type": "execute_result"
    }
   ],
   "source": [
    "comps.head(100)"
   ]
  },
  {
   "cell_type": "code",
   "execution_count": 11,
   "id": "7f4709eb-ffec-47fd-8aa9-07aaf768f240",
   "metadata": {},
   "outputs": [],
   "source": [
    "weights.to_excel(excel_writer = \"/Users/alessandro/Desktop/weights-col-pre.xlsx\")\n",
    "comps.to_excel(excel_writer = \"/Users/alessandro/Desktop/comps-col-pre.xlsx\")"
   ]
  }
 ],
 "metadata": {
  "kernelspec": {
   "display_name": "Python 3 (ipykernel)",
   "language": "python",
   "name": "python3"
  },
  "language_info": {
   "codemirror_mode": {
    "name": "ipython",
    "version": 3
   },
   "file_extension": ".py",
   "mimetype": "text/x-python",
   "name": "python",
   "nbconvert_exporter": "python",
   "pygments_lexer": "ipython3",
   "version": "3.9.12"
  }
 },
 "nbformat": 4,
 "nbformat_minor": 5
}
