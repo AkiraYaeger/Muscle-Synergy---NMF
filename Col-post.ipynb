{
 "cells": [
  {
   "cell_type": "code",
   "execution_count": 2,
   "id": "aeb16204-85c5-4e63-a9e0-38fe80db7b81",
   "metadata": {},
   "outputs": [],
   "source": [
    "import numpy as np\n",
    "import pandas as pd\n",
    "from sklearn.decomposition import NMF\n",
    "\n",
    "col_post=pd.DataFrame(pd.read_csv('Colombo post.csv'))"
   ]
  },
  {
   "cell_type": "code",
   "execution_count": 3,
   "id": "c0078caf-8550-406b-9f3c-efc536a3add4",
   "metadata": {},
   "outputs": [
    {
     "data": {
      "text/html": [
       "<div>\n",
       "<style scoped>\n",
       "    .dataframe tbody tr th:only-of-type {\n",
       "        vertical-align: middle;\n",
       "    }\n",
       "\n",
       "    .dataframe tbody tr th {\n",
       "        vertical-align: top;\n",
       "    }\n",
       "\n",
       "    .dataframe thead th {\n",
       "        text-align: right;\n",
       "    }\n",
       "</style>\n",
       "<table border=\"1\" class=\"dataframe\">\n",
       "  <thead>\n",
       "    <tr style=\"text-align: right;\">\n",
       "      <th></th>\n",
       "      <th>Right Vastus lateralis~5</th>\n",
       "      <th>Right Biceps femoris caput longus~5</th>\n",
       "      <th>Right Gastrocnemius lateralis~5</th>\n",
       "      <th>Right Gluteus maximus~5</th>\n",
       "      <th>Right Rectus femoris~5</th>\n",
       "    </tr>\n",
       "  </thead>\n",
       "  <tbody>\n",
       "    <tr>\n",
       "      <th>0</th>\n",
       "      <td>0.104603</td>\n",
       "      <td>0.041899</td>\n",
       "      <td>0.527273</td>\n",
       "      <td>0.125714</td>\n",
       "      <td>0.026578</td>\n",
       "    </tr>\n",
       "    <tr>\n",
       "      <th>1</th>\n",
       "      <td>0.104603</td>\n",
       "      <td>0.041899</td>\n",
       "      <td>0.518182</td>\n",
       "      <td>0.125714</td>\n",
       "      <td>0.028239</td>\n",
       "    </tr>\n",
       "    <tr>\n",
       "      <th>2</th>\n",
       "      <td>0.106695</td>\n",
       "      <td>0.041899</td>\n",
       "      <td>0.509091</td>\n",
       "      <td>0.120000</td>\n",
       "      <td>0.028239</td>\n",
       "    </tr>\n",
       "    <tr>\n",
       "      <th>3</th>\n",
       "      <td>0.106695</td>\n",
       "      <td>0.041899</td>\n",
       "      <td>0.495455</td>\n",
       "      <td>0.114286</td>\n",
       "      <td>0.029900</td>\n",
       "    </tr>\n",
       "    <tr>\n",
       "      <th>4</th>\n",
       "      <td>0.108787</td>\n",
       "      <td>0.041899</td>\n",
       "      <td>0.481818</td>\n",
       "      <td>0.108571</td>\n",
       "      <td>0.029900</td>\n",
       "    </tr>\n",
       "  </tbody>\n",
       "</table>\n",
       "</div>"
      ],
      "text/plain": [
       "   Right Vastus lateralis~5  Right Biceps femoris caput longus~5  \\\n",
       "0                  0.104603                             0.041899   \n",
       "1                  0.104603                             0.041899   \n",
       "2                  0.106695                             0.041899   \n",
       "3                  0.106695                             0.041899   \n",
       "4                  0.108787                             0.041899   \n",
       "\n",
       "   Right Gastrocnemius lateralis~5  Right Gluteus maximus~5  \\\n",
       "0                         0.527273                 0.125714   \n",
       "1                         0.518182                 0.125714   \n",
       "2                         0.509091                 0.120000   \n",
       "3                         0.495455                 0.114286   \n",
       "4                         0.481818                 0.108571   \n",
       "\n",
       "   Right Rectus femoris~5  \n",
       "0                0.026578  \n",
       "1                0.028239  \n",
       "2                0.028239  \n",
       "3                0.029900  \n",
       "4                0.029900  "
      ]
     },
     "execution_count": 3,
     "metadata": {},
     "output_type": "execute_result"
    }
   ],
   "source": [
    "col_post.head()"
   ]
  },
  {
   "cell_type": "code",
   "execution_count": 7,
   "id": "b6d63393-a70b-4bbf-a6a5-53c1af488bba",
   "metadata": {},
   "outputs": [],
   "source": [
    "vasto=col_post.iloc[:,0].to_numpy()\n",
    "femor=col_post.iloc[:,1].to_numpy()\n",
    "polp=col_post.iloc[:,2].to_numpy()\n",
    "glute=col_post.iloc[:,3].to_numpy()\n",
    "quad=col_post.iloc[:,4].to_numpy()"
   ]
  },
  {
   "cell_type": "code",
   "execution_count": 8,
   "id": "bb3b800f-09fd-494d-9376-66126301cd59",
   "metadata": {},
   "outputs": [],
   "source": [
    "X=[vasto,femor,polp,glute,quad]"
   ]
  },
  {
   "cell_type": "code",
   "execution_count": 27,
   "id": "f179d987-7ca0-47a2-9a8d-7d2f685150e9",
   "metadata": {
    "collapsed": true,
    "jupyter": {
     "outputs_hidden": true
    },
    "tags": []
   },
   "outputs": [
    {
     "name": "stderr",
     "output_type": "stream",
     "text": [
      "/Users/alessandro/opt/anaconda3/lib/python3.9/site-packages/sklearn/decomposition/_nmf.py:1637: ConvergenceWarning: Maximum number of iterations 200 reached. Increase it to improve convergence.\n",
      "  warnings.warn(\n"
     ]
    }
   ],
   "source": [
    "model = NMF(n_components=5, init='random', random_state=0)\n",
    "W = model.fit_transform(X)\n",
    "H = model.components_"
   ]
  },
  {
   "cell_type": "code",
   "execution_count": 28,
   "id": "cddf8196-8188-45dd-9b36-96b0596a0f42",
   "metadata": {
    "tags": []
   },
   "outputs": [
    {
     "data": {
      "text/plain": [
       "array([[0.23087719, 0.38027001, 0.28757558, 0.83235586, 0.        ],\n",
       "       [0.54781811, 0.        , 0.06105818, 0.09613058, 0.01660728],\n",
       "       [0.28184931, 0.28171156, 0.12243157, 0.30776866, 0.67145376],\n",
       "       [0.17475335, 0.        , 0.67816004, 0.        , 0.01943127],\n",
       "       [0.15631436, 0.54684029, 0.00209456, 0.24759516, 0.        ]])"
      ]
     },
     "execution_count": 28,
     "metadata": {},
     "output_type": "execute_result"
    }
   ],
   "source": [
    "W"
   ]
  },
  {
   "cell_type": "code",
   "execution_count": 53,
   "id": "3e8498f0-1ac8-4c5b-89ba-c83e0b7cde0f",
   "metadata": {},
   "outputs": [],
   "source": [
    "H.shape\n",
    "H=[*zip(*H)]"
   ]
  },
  {
   "cell_type": "code",
   "execution_count": 54,
   "id": "f276ccea-a840-49eb-b0ce-9499ef4a3f7b",
   "metadata": {},
   "outputs": [],
   "source": [
    "weights=pd.DataFrame(W)\n",
    "comps=pd.DataFrame(H)"
   ]
  },
  {
   "cell_type": "code",
   "execution_count": 43,
   "id": "a11c6df7-ebb8-45e1-832c-a598a05b820d",
   "metadata": {},
   "outputs": [
    {
     "data": {
      "text/html": [
       "<div>\n",
       "<style scoped>\n",
       "    .dataframe tbody tr th:only-of-type {\n",
       "        vertical-align: middle;\n",
       "    }\n",
       "\n",
       "    .dataframe tbody tr th {\n",
       "        vertical-align: top;\n",
       "    }\n",
       "\n",
       "    .dataframe thead th {\n",
       "        text-align: right;\n",
       "    }\n",
       "</style>\n",
       "<table border=\"1\" class=\"dataframe\">\n",
       "  <thead>\n",
       "    <tr style=\"text-align: right;\">\n",
       "      <th></th>\n",
       "      <th>0</th>\n",
       "      <th>1</th>\n",
       "      <th>2</th>\n",
       "      <th>3</th>\n",
       "      <th>4</th>\n",
       "    </tr>\n",
       "  </thead>\n",
       "  <tbody>\n",
       "    <tr>\n",
       "      <th>0</th>\n",
       "      <td>0.230877</td>\n",
       "      <td>0.380270</td>\n",
       "      <td>0.287576</td>\n",
       "      <td>0.832356</td>\n",
       "      <td>0.000000</td>\n",
       "    </tr>\n",
       "    <tr>\n",
       "      <th>1</th>\n",
       "      <td>0.547818</td>\n",
       "      <td>0.000000</td>\n",
       "      <td>0.061058</td>\n",
       "      <td>0.096131</td>\n",
       "      <td>0.016607</td>\n",
       "    </tr>\n",
       "    <tr>\n",
       "      <th>2</th>\n",
       "      <td>0.281849</td>\n",
       "      <td>0.281712</td>\n",
       "      <td>0.122432</td>\n",
       "      <td>0.307769</td>\n",
       "      <td>0.671454</td>\n",
       "    </tr>\n",
       "    <tr>\n",
       "      <th>3</th>\n",
       "      <td>0.174753</td>\n",
       "      <td>0.000000</td>\n",
       "      <td>0.678160</td>\n",
       "      <td>0.000000</td>\n",
       "      <td>0.019431</td>\n",
       "    </tr>\n",
       "    <tr>\n",
       "      <th>4</th>\n",
       "      <td>0.156314</td>\n",
       "      <td>0.546840</td>\n",
       "      <td>0.002095</td>\n",
       "      <td>0.247595</td>\n",
       "      <td>0.000000</td>\n",
       "    </tr>\n",
       "  </tbody>\n",
       "</table>\n",
       "</div>"
      ],
      "text/plain": [
       "          0         1         2         3         4\n",
       "0  0.230877  0.380270  0.287576  0.832356  0.000000\n",
       "1  0.547818  0.000000  0.061058  0.096131  0.016607\n",
       "2  0.281849  0.281712  0.122432  0.307769  0.671454\n",
       "3  0.174753  0.000000  0.678160  0.000000  0.019431\n",
       "4  0.156314  0.546840  0.002095  0.247595  0.000000"
      ]
     },
     "execution_count": 43,
     "metadata": {},
     "output_type": "execute_result"
    }
   ],
   "source": [
    "weights.head()"
   ]
  },
  {
   "cell_type": "code",
   "execution_count": 56,
   "id": "70d6825e-e9ff-4aae-9280-7c35c30506a9",
   "metadata": {},
   "outputs": [
    {
     "data": {
      "text/html": [
       "<div>\n",
       "<style scoped>\n",
       "    .dataframe tbody tr th:only-of-type {\n",
       "        vertical-align: middle;\n",
       "    }\n",
       "\n",
       "    .dataframe tbody tr th {\n",
       "        vertical-align: top;\n",
       "    }\n",
       "\n",
       "    .dataframe thead th {\n",
       "        text-align: right;\n",
       "    }\n",
       "</style>\n",
       "<table border=\"1\" class=\"dataframe\">\n",
       "  <thead>\n",
       "    <tr style=\"text-align: right;\">\n",
       "      <th></th>\n",
       "      <th>0</th>\n",
       "      <th>1</th>\n",
       "      <th>2</th>\n",
       "      <th>3</th>\n",
       "      <th>4</th>\n",
       "    </tr>\n",
       "  </thead>\n",
       "  <tbody>\n",
       "    <tr>\n",
       "      <th>0</th>\n",
       "      <td>0.027322</td>\n",
       "      <td>0.014403</td>\n",
       "      <td>0.157900</td>\n",
       "      <td>0.056949</td>\n",
       "      <td>0.712864</td>\n",
       "    </tr>\n",
       "    <tr>\n",
       "      <th>1</th>\n",
       "      <td>0.028086</td>\n",
       "      <td>0.018124</td>\n",
       "      <td>0.158121</td>\n",
       "      <td>0.054960</td>\n",
       "      <td>0.698314</td>\n",
       "    </tr>\n",
       "    <tr>\n",
       "      <th>2</th>\n",
       "      <td>0.028243</td>\n",
       "      <td>0.015095</td>\n",
       "      <td>0.150050</td>\n",
       "      <td>0.061604</td>\n",
       "      <td>0.684407</td>\n",
       "    </tr>\n",
       "    <tr>\n",
       "      <th>3</th>\n",
       "      <td>0.029514</td>\n",
       "      <td>0.017096</td>\n",
       "      <td>0.141895</td>\n",
       "      <td>0.063156</td>\n",
       "      <td>0.663501</td>\n",
       "    </tr>\n",
       "    <tr>\n",
       "      <th>4</th>\n",
       "      <td>0.029879</td>\n",
       "      <td>0.014052</td>\n",
       "      <td>0.133966</td>\n",
       "      <td>0.069699</td>\n",
       "      <td>0.642762</td>\n",
       "    </tr>\n",
       "    <tr>\n",
       "      <th>...</th>\n",
       "      <td>...</td>\n",
       "      <td>...</td>\n",
       "      <td>...</td>\n",
       "      <td>...</td>\n",
       "      <td>...</td>\n",
       "    </tr>\n",
       "    <tr>\n",
       "      <th>95</th>\n",
       "      <td>0.103459</td>\n",
       "      <td>0.116141</td>\n",
       "      <td>0.002793</td>\n",
       "      <td>0.080653</td>\n",
       "      <td>0.147919</td>\n",
       "    </tr>\n",
       "    <tr>\n",
       "      <th>96</th>\n",
       "      <td>0.108750</td>\n",
       "      <td>0.118578</td>\n",
       "      <td>0.001099</td>\n",
       "      <td>0.078656</td>\n",
       "      <td>0.159439</td>\n",
       "    </tr>\n",
       "    <tr>\n",
       "      <th>97</th>\n",
       "      <td>0.108542</td>\n",
       "      <td>0.118593</td>\n",
       "      <td>0.000957</td>\n",
       "      <td>0.078757</td>\n",
       "      <td>0.166270</td>\n",
       "    </tr>\n",
       "    <tr>\n",
       "      <th>98</th>\n",
       "      <td>0.108126</td>\n",
       "      <td>0.118622</td>\n",
       "      <td>0.000673</td>\n",
       "      <td>0.078957</td>\n",
       "      <td>0.179931</td>\n",
       "    </tr>\n",
       "    <tr>\n",
       "      <th>99</th>\n",
       "      <td>0.108129</td>\n",
       "      <td>0.116180</td>\n",
       "      <td>0.000430</td>\n",
       "      <td>0.077642</td>\n",
       "      <td>0.188371</td>\n",
       "    </tr>\n",
       "  </tbody>\n",
       "</table>\n",
       "<p>100 rows × 5 columns</p>\n",
       "</div>"
      ],
      "text/plain": [
       "           0         1         2         3         4\n",
       "0   0.027322  0.014403  0.157900  0.056949  0.712864\n",
       "1   0.028086  0.018124  0.158121  0.054960  0.698314\n",
       "2   0.028243  0.015095  0.150050  0.061604  0.684407\n",
       "3   0.029514  0.017096  0.141895  0.063156  0.663501\n",
       "4   0.029879  0.014052  0.133966  0.069699  0.642762\n",
       "..       ...       ...       ...       ...       ...\n",
       "95  0.103459  0.116141  0.002793  0.080653  0.147919\n",
       "96  0.108750  0.118578  0.001099  0.078656  0.159439\n",
       "97  0.108542  0.118593  0.000957  0.078757  0.166270\n",
       "98  0.108126  0.118622  0.000673  0.078957  0.179931\n",
       "99  0.108129  0.116180  0.000430  0.077642  0.188371\n",
       "\n",
       "[100 rows x 5 columns]"
      ]
     },
     "execution_count": 56,
     "metadata": {},
     "output_type": "execute_result"
    }
   ],
   "source": [
    "comps.head(100)"
   ]
  },
  {
   "cell_type": "code",
   "execution_count": 57,
   "id": "7f4709eb-ffec-47fd-8aa9-07aaf768f240",
   "metadata": {},
   "outputs": [],
   "source": [
    "weights.to_excel(excel_writer = \"/Users/alessandro/Desktop/weights-col-post.xlsx\")\n",
    "comps.to_excel(excel_writer = \"/Users/alessandro/Desktop/comps-col-post.xlsx\")"
   ]
  }
 ],
 "metadata": {
  "kernelspec": {
   "display_name": "Python 3 (ipykernel)",
   "language": "python",
   "name": "python3"
  },
  "language_info": {
   "codemirror_mode": {
    "name": "ipython",
    "version": 3
   },
   "file_extension": ".py",
   "mimetype": "text/x-python",
   "name": "python",
   "nbconvert_exporter": "python",
   "pygments_lexer": "ipython3",
   "version": "3.9.12"
  }
 },
 "nbformat": 4,
 "nbformat_minor": 5
}
